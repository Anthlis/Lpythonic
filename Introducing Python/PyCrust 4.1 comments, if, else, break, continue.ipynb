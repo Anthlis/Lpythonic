{
 "cells": [
  {
   "cell_type": "markdown",
   "metadata": {},
   "source": [
    "### Comments & Continue lines with \\"
   ]
  },
  {
   "cell_type": "code",
   "execution_count": 1,
   "metadata": {
    "collapsed": false
   },
   "outputs": [
    {
     "name": "stdout",
     "output_type": "stream",
     "text": [
      "86400\n"
     ]
    }
   ],
   "source": [
    "# 60 sec/min * 60 min/hr * 25 hr/day\n",
    "seconds_per_day = 60 * 60 * 24 # which calcs above\n",
    "'''\n",
    "Also this \n",
    "is \n",
    "a \n",
    "multiline comment; \n",
    "\n",
    "useful for describing functions'''\n",
    "print (seconds_per_day)\n"
   ]
  },
  {
   "cell_type": "code",
   "execution_count": 3,
   "metadata": {
    "collapsed": false
   },
   "outputs": [
    {
     "name": "stdout",
     "output_type": "stream",
     "text": [
      "abcdefghijklmnopqrstuvwxyz\n",
      "abcdefghijklmnopqrstuvwxyz\n"
     ]
    }
   ],
   "source": [
    "alphabet = ''\n",
    "alphabet += 'abcdefghijklmnop'\n",
    "alphabet += 'qrstuvwxyz'\n",
    "\n",
    "print(alphabet)\n",
    "\n",
    "alphabet_2 = 'abcdefghijklmnop' + \\\n",
    "'qrstuvwxyz'\n",
    "print (alphabet_2)\n"
   ]
  },
  {
   "cell_type": "code",
   "execution_count": 4,
   "metadata": {
    "collapsed": false
   },
   "outputs": [
    {
     "data": {
      "text/plain": [
       "6"
      ]
     },
     "execution_count": 4,
     "metadata": {},
     "output_type": "execute_result"
    }
   ],
   "source": [
    "1 + 2 + \\\n",
    "3\n"
   ]
  },
  {
   "cell_type": "markdown",
   "metadata": {},
   "source": [
    "### Compare with if and else"
   ]
  },
  {
   "cell_type": "code",
   "execution_count": 10,
   "metadata": {
    "collapsed": false
   },
   "outputs": [
    {
     "name": "stdout",
     "output_type": "stream",
     "text": [
      "Hey, it's empty\n"
     ]
    }
   ],
   "source": [
    "some_list = [] # An empty list is considered false, just like boolean, null, empty strings, tuples, dicts and sets\n",
    "if some_list:\n",
    "    print(\"There's something in here\") # print if True\n",
    "else:\n",
    "    print(\"Hey, it's empty\") # print if False\n",
    "    \n",
    "    "
   ]
  },
  {
   "cell_type": "markdown",
   "metadata": {},
   "source": [
    "### If there are more than two possibilities to test, use if, elif (meaning else if), and else:"
   ]
  },
  {
   "cell_type": "code",
   "execution_count": 12,
   "metadata": {
    "collapsed": false
   },
   "outputs": [
    {
     "name": "stdout",
     "output_type": "stream",
     "text": [
      "I've never heard of this colour: puce\n"
     ]
    }
   ],
   "source": [
    "colour = 'puce'\n",
    "\n",
    "if colour == 'red':\n",
    "    print(\"It's a tomato\")\n",
    "elif colour == \"green\":\n",
    "    print(\"It's a green pepper\")\n",
    "elif colour == \"bee purple\":\n",
    "    print(\"I don't know what it is, but only bees can see it\")\n",
    "else:\n",
    "    print(\"I've never heard of this colour:\", colour)\n",
    "\n"
   ]
  },
  {
   "cell_type": "markdown",
   "metadata": {},
   "source": [
    "### Repeat with While"
   ]
  },
  {
   "cell_type": "code",
   "execution_count": 13,
   "metadata": {
    "collapsed": false
   },
   "outputs": [
    {
     "name": "stdout",
     "output_type": "stream",
     "text": [
      "1\n",
      "2\n",
      "3\n",
      "4\n",
      "5\n"
     ]
    }
   ],
   "source": [
    "count = 1\n",
    "while count <= 5:\n",
    "    print(count)\n",
    "    count += 1"
   ]
  },
  {
   "cell_type": "markdown",
   "metadata": {},
   "source": [
    "### Cancel with Break"
   ]
  },
  {
   "cell_type": "code",
   "execution_count": 2,
   "metadata": {
    "collapsed": false
   },
   "outputs": [
    {
     "name": "stdout",
     "output_type": "stream",
     "text": [
      "String to Capitalize [type q to quit]:h\n",
      "H\n",
      "String to Capitalize [type q to quit]:q\n"
     ]
    }
   ],
   "source": [
    "while True:\n",
    "    stuff = input(\"String to Capitalize [type q to quit]:\")\n",
    "    if stuff == \"q\":\n",
    "        break\n",
    "    print(stuff.capitalize())"
   ]
  },
  {
   "cell_type": "markdown",
   "metadata": {},
   "source": [
    "### Skip Ahead with continue"
   ]
  },
  {
   "cell_type": "code",
   "execution_count": null,
   "metadata": {
    "collapsed": false
   },
   "outputs": [
    {
     "name": "stdout",
     "output_type": "stream",
     "text": [
      "Enter an integer number [type q to quit]:2\n",
      "Enter an integer number [type q to quit]:4\n",
      "Enter an integer number [type q to quit]:3\n",
      "3 squared is 9\n"
     ]
    }
   ],
   "source": [
    "while True:\n",
    "    value = input(\"Enter an integer number [type q to quit]:\")\n",
    "    if stuff == \"q\":\n",
    "        break\n",
    "    number = int(value)\n",
    "    if number %2 == 0:\n",
    "        continue\n",
    "    print(number, \"squared is\", number * number)"
   ]
  },
  {
   "cell_type": "markdown",
   "metadata": {},
   "source": [
    "### Check break Use with else"
   ]
  },
  {
   "cell_type": "code",
   "execution_count": 1,
   "metadata": {
    "collapsed": false
   },
   "outputs": [
    {
     "name": "stdout",
     "output_type": "stream",
     "text": [
      "No even number\n"
     ]
    }
   ],
   "source": [
    "numbers = [1,3,5]\n",
    "position = 0\n",
    "while position < len(numbers):\n",
    "    number = numbers[position]\n",
    "    if number %2 == 0:\n",
    "        print(\"Even number found\", number)\n",
    "        break\n",
    "    position += 1\n",
    "else:\n",
    "    print(\"No even number\")"
   ]
  },
  {
   "cell_type": "code",
   "execution_count": null,
   "metadata": {
    "collapsed": false
   },
   "outputs": [],
   "source": []
  }
 ],
 "metadata": {
  "kernelspec": {
   "display_name": "Python 3",
   "language": "python",
   "name": "python3"
  },
  "language_info": {
   "codemirror_mode": {
    "name": "ipython",
    "version": 3
   },
   "file_extension": ".py",
   "mimetype": "text/x-python",
   "name": "python",
   "nbconvert_exporter": "python",
   "pygments_lexer": "ipython3",
   "version": "3.5.1"
  }
 },
 "nbformat": 4,
 "nbformat_minor": 0
}
