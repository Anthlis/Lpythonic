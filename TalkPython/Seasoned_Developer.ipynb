{
  "cells": [
    {
      "cell_type": "code",
      "execution_count": 31,
      "metadata": {
        "collapsed": true,
        "pycharm": {
          "is_executing": false
        }
      },
      "outputs": [
        {
          "name": "stdout",
          "text": [
            "test\n"
          ],
          "output_type": "stream"
        }
      ],
      "source": "print(f\u0027test\u0027)"
    },
    {
      "cell_type": "markdown",
      "source": "Dictionaries\n",
      "metadata": {
        "pycharm": {
          "metadata": false
        }
      }
    },
    {
      "cell_type": "code",
      "execution_count": 32,
      "outputs": [
        {
          "name": "stdout",
          "text": [
            "{\u0027a\u0027: 100, \u0027b\u0027: 200}\n{\u0027c\u0027: 300, \u0027d\u0027: 400}\n{\u0027a\u0027: 100, \u0027b\u0027: 200, \u0027c\u0027: 300, \u0027d\u0027: 400}\n{\u0027a\u0027: 100, \u0027b\u0027: 200, \u0027c\u0027: 300, \u0027d\u0027: 400}\nmatch!\n"
          ],
          "output_type": "stream"
        }
      ],
      "source": "dict_1 \u003d {\u0027a\u0027: 100, \u0027b\u0027: 200}\nprint(dict_1)\n\ndict_2 \u003d {\u0027c\u0027: 300, \u0027d\u0027: 400}\nprint(dict_2)\n\n# Make a third list as list_1 and merge with list_2\ndict_3 \u003d dict_1.copy()\ndict_3.update(dict_2)\nprint(dict_3)\n\n# more pythonic way !!!\ndict_4 \u003d {** dict_1, **dict_2}\nprint(dict_4)\nif dict_3 \u003d\u003d dict_4: print(\u0027match!\u0027)",
      "metadata": {
        "pycharm": {
          "metadata": false,
          "name": "#%%\n",
          "is_executing": false
        }
      }
    },
    {
      "cell_type": "code",
      "execution_count": 33,
      "outputs": [
        {
          "name": "stdout",
          "text": [
            "{\u0027a\u0027: 100, \u0027b\u0027: 200, \u0027z\u0027: 5000}\n"
          ],
          "output_type": "stream"
        }
      ],
      "source": "# add to dictionary \ndict_1[\u0027z\u0027] \u003d 5000\nprint(dict_1)\n",
      "metadata": {
        "pycharm": {
          "metadata": false,
          "name": "#%%\n",
          "is_executing": false
        }
      }
    },
    {
      "cell_type": "code",
      "execution_count": 34,
      "outputs": [
        {
          "name": "stdout",
          "text": [
            "{\u0027d\u0027: 400}\n"
          ],
          "output_type": "stream"
        }
      ],
      "source": "# remove a dict entry\ndel dict_2[\u0027c\u0027]\nprint(dict_2)",
      "metadata": {
        "pycharm": {
          "metadata": false,
          "name": "#%%\n",
          "is_executing": false
        }
      }
    },
    {
      "cell_type": "code",
      "execution_count": 34,
      "outputs": [],
      "source": "",
      "metadata": {
        "pycharm": {
          "metadata": false,
          "name": "#%%\n",
          "is_executing": false
        }
      }
    },
    {
      "cell_type": "code",
      "execution_count": null,
      "outputs": [],
      "source": "\n",
      "metadata": {
        "pycharm": {
          "metadata": false,
          "name": "#%%\n"
        }
      }
    }
  ],
  "metadata": {
    "language_info": {
      "codemirror_mode": {
        "name": "ipython",
        "version": 2
      },
      "file_extension": ".py",
      "mimetype": "text/x-python",
      "name": "python",
      "nbconvert_exporter": "python",
      "pygments_lexer": "ipython2",
      "version": "2.7.6"
    },
    "kernelspec": {
      "name": "pycharm-8be7ec78",
      "language": "python",
      "display_name": "PyCharm (pythonic)"
    }
  },
  "nbformat": 4,
  "nbformat_minor": 0
}