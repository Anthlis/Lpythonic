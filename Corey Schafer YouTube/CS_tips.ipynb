{
  "cells": [
    {
      "cell_type": "code",
      "execution_count": 2,
      "metadata": {
        "collapsed": true,
        "pycharm": {
          "is_executing": false,
          "name": "#%%\n"
        }
      },
      "outputs": [
        {
          "name": "stdout",
          "output_type": "stream",
          "text": [
            "hello world\n"
          ]
        },
        {
          "data": {
            "text/plain": [
              "\u0027hello f-strings\u0027"
            ]
          },
          "execution_count": 2,
          "metadata": {},
          "output_type": "execute_result"
        }
      ],
      "source": [
        "print(\"hello world\")\n",
        "f\u0027hello f-strings\u0027"
      ]
    },
    {
      "cell_type": "code",
      "execution_count": 3,
      "metadata": {
        "pycharm": {
          "is_executing": false,
          "metadata": false,
          "name": "#%%\n"
        }
      },
      "outputs": [
        {
          "name": "stdout",
          "output_type": "stream",
          "text": [
            "1\n"
          ]
        }
      ],
      "source": [
        "condition \u003d True\n",
        "\n",
        "if condition:\n",
        "    x \u003d 1\n",
        "else:\n",
        "    x \u003d 0\n",
        "\n",
        "print(x)"
      ]
    },
    {
      "cell_type": "code",
      "execution_count": 7,
      "metadata": {
        "pycharm": {
          "is_executing": false,
          "metadata": false,
          "name": "#%%\n"
        }
      },
      "outputs": [
        {
          "name": "stdout",
          "output_type": "stream",
          "text": [
            "1\n"
          ]
        }
      ],
      "source": [
        "x \u003d 1 if condition else 0\n",
        "print(x)"
      ]
    },
    {
      "cell_type": "code",
      "execution_count": 8,
      "metadata": {
        "pycharm": {
          "is_executing": false,
          "metadata": false,
          "name": "#%%\n"
        }
      },
      "outputs": [
        {
          "name": "stdout",
          "output_type": "stream",
          "text": [
            "10100000000\n"
          ]
        }
      ],
      "source": [
        "num1 \u003d 10000000000\n",
        "num2 \u003d 100000000\n",
        "\n",
        "total \u003d num1 + num2\n",
        "print(total)"
      ]
    },
    {
      "cell_type": "code",
      "execution_count": 14,
      "metadata": {
        "pycharm": {
          "is_executing": false,
          "metadata": false,
          "name": "#%%\n"
        }
      },
      "outputs": [
        {
          "name": "stdout",
          "output_type": "stream",
          "text": [
            "10,100,000,000\n"
          ]
        }
      ],
      "source": [
        "num1 \u003d 10_000_000_000\n",
        "num2 \u003d 100_000_000\n",
        "\n",
        "total \u003d num1 + num2\n",
        "print(f\u0027{total:,}\u0027)\n"
      ]
    },
    {
      "cell_type": "code",
      "execution_count": 1,
      "metadata": {
        "pycharm": {
          "is_executing": false,
          "metadata": false,
          "name": "#%%\n"
        }
      },
      "outputs": [
        {
          "name": "stdout",
          "output_type": "stream",
          "text": [
            "Bob\n",
            "Fred\n",
            "Jim\n",
            "Travis\n"
          ]
        }
      ],
      "source": [
        "names \u003d [\u0027Bob\u0027, \u0027Fred\u0027, \u0027Jim\u0027, \u0027Travis\u0027]\n",
        "\n",
        "for name in names:\n",
        "    print(name)"
      ]
    },
    {
      "cell_type": "code",
      "execution_count": 4,
      "metadata": {
        "pycharm": {
          "is_executing": false,
          "metadata": false,
          "name": "#%%\n"
        }
      },
      "outputs": [
        {
          "name": "stdout",
          "output_type": "stream",
          "text": [
            "0 Bob\n",
            "1 Fred\n",
            "2 Jim\n",
            "3 Travis\n"
          ]
        }
      ],
      "source": [
        "names \u003d [\u0027Bob\u0027, \u0027Fred\u0027, \u0027Jim\u0027, \u0027Travis\u0027]\n",
        "\n",
        "index \u003d 0\n",
        "for name in names:\n",
        "    print(index, name)\n",
        "    index +\u003d 1"
      ]
    },
    {
      "cell_type": "code",
      "execution_count": 6,
      "metadata": {
        "pycharm": {
          "is_executing": false,
          "metadata": false,
          "name": "#%%\n"
        }
      },
      "outputs": [
        {
          "name": "stdout",
          "output_type": "stream",
          "text": [
            "1 Bob\n",
            "2 Fred\n",
            "3 Jim\n",
            "4 Travis\n"
          ]
        }
      ],
      "source": "names \u003d [\u0027Bob\u0027, \u0027Fred\u0027, \u0027Jim\u0027, \u0027Travis\u0027]\n\nfor index, name in enumerate(names, start\u003d1):\n    print(index, name)"
    },
    {
      "cell_type": "code",
      "execution_count": 2,
      "outputs": [
        {
          "name": "stdout",
          "text": [
            "Peter Parker is actually Spiderman\nClark Kent is actually Superman\nWade Wilson is actually Deadpool\nBruce Wayne is actually Batman\n"
          ],
          "output_type": "stream"
        }
      ],
      "source": "names \u003d [\u0027Peter Parker\u0027, \u0027Clark Kent\u0027, \u0027Wade Wilson\u0027, \u0027Bruce Wayne\u0027]\nheroes \u003d [\u0027Spiderman\u0027, \u0027Superman\u0027, \u0027Deadpool\u0027, \u0027Batman\u0027]\n\nfor index, name in enumerate(names):\n    hero \u003d heroes[index]\n    print(f\u0027{name} is actually {hero}\u0027)\n",
      "metadata": {
        "pycharm": {
          "metadata": false,
          "name": "#%%\n",
          "is_executing": false
        }
      }
    },
    {
      "cell_type": "code",
      "execution_count": 3,
      "outputs": [
        {
          "name": "stdout",
          "text": [
            "Peter Parker is actually Spiderman\nClark Kent is actually Superman\nWade Wilson is actually Deadpool\nBruce Wayne is actually Batman\n"
          ],
          "output_type": "stream"
        }
      ],
      "source": "names \u003d [\u0027Peter Parker\u0027, \u0027Clark Kent\u0027, \u0027Wade Wilson\u0027, \u0027Bruce Wayne\u0027]\nheroes \u003d [\u0027Spiderman\u0027, \u0027Superman\u0027, \u0027Deadpool\u0027, \u0027Batman\u0027]\n\nfor name, hero in zip(names, heroes):\n    print(f\u0027{name} is actually {hero}\u0027)",
      "metadata": {
        "pycharm": {
          "metadata": false,
          "name": "#%%\n",
          "is_executing": false
        }
      }
    },
    {
      "cell_type": "code",
      "execution_count": 4,
      "outputs": [
        {
          "name": "stdout",
          "text": [
            "Peter Parker is actually Spiderman from Marvel\nClark Kent is actually Superman from DC\nWade Wilson is actually Deadpool from Marvel\nBruce Wayne is actually Batman from DC\n"
          ],
          "output_type": "stream"
        }
      ],
      "source": "names \u003d [\u0027Peter Parker\u0027, \u0027Clark Kent\u0027, \u0027Wade Wilson\u0027, \u0027Bruce Wayne\u0027]\nheroes \u003d [\u0027Spiderman\u0027, \u0027Superman\u0027, \u0027Deadpool\u0027, \u0027Batman\u0027]\nuniverses \u003d [\u0027Marvel\u0027, \u0027DC\u0027, \u0027Marvel\u0027, \u0027DC\u0027]\n\nfor name, hero, universe in zip(names, heroes, universes):\n    print(f\u0027{name} is actually {hero} from {universe}\u0027)",
      "metadata": {
        "pycharm": {
          "metadata": false,
          "name": "#%%\n",
          "is_executing": false
        }
      }
    },
    {
      "cell_type": "markdown",
      "source": "enumerate will not \nZip will stop at exhaustion of the shortest list. \nZip to the longest list can use the zip longest function from itertools lib. ",
      "metadata": {
        "pycharm": {
          "metadata": false
        }
      }
    },
    {
      "cell_type": "code",
      "execution_count": 5,
      "outputs": [
        {
          "name": "stdout",
          "text": [
            "(\u0027Peter Parker\u0027, \u0027Spiderman\u0027, \u0027Marvel\u0027)\n(\u0027Clark Kent\u0027, \u0027Superman\u0027, \u0027DC\u0027)\n(\u0027Wade Wilson\u0027, \u0027Deadpool\u0027, \u0027Marvel\u0027)\n(\u0027Bruce Wayne\u0027, \u0027Batman\u0027, \u0027DC\u0027)\n"
          ],
          "output_type": "stream"
        }
      ],
      "source": "# tuple unpacking:\nfor value in zip(names, heroes, universes):\n    print(value)",
      "metadata": {
        "pycharm": {
          "metadata": false,
          "name": "#%%\n",
          "is_executing": false
        }
      }
    },
    {
      "cell_type": "markdown",
      "source": "Tuple Unpacking",
      "metadata": {
        "pycharm": {
          "metadata": false
        }
      }
    },
    {
      "cell_type": "code",
      "execution_count": 8,
      "outputs": [
        {
          "name": "stdout",
          "text": [
            "(1, 2)\n1\n2\n"
          ],
          "output_type": "stream"
        }
      ],
      "source": "# Normal:\nitems \u003d (1, 2)\nprint(items)\n# Unpacking\na, b, \u003d (1, 2)\nprint(a)\nprint(b)",
      "metadata": {
        "pycharm": {
          "metadata": false,
          "name": "#%%\n",
          "is_executing": false
        }
      }
    },
    {
      "cell_type": "code",
      "execution_count": null,
      "outputs": [],
      "source": "a, _ \u003d (1, 2)\nprint(a)\n# use variable as _ but which we know isn\u0027t used anywhere else.\n# what if we had more values than variables?",
      "metadata": {
        "pycharm": {
          "metadata": false,
          "name": "#%%\n"
        }
      }
    },
    {
      "cell_type": "code",
      "execution_count": 9,
      "outputs": [
        {
          "name": "stdout",
          "text": [
            "1\n2\n[3, 4, 5]\n"
          ],
          "output_type": "stream"
        }
      ],
      "source": "# a, b, c \u003d (1, 2, 3, 4, 5) # will give an error\n# so set c as: \n\na, b, *c \u003d (1, 2, 3, 4, 5)\nprint(a)\nprint(b)\nprint(c)",
      "metadata": {
        "pycharm": {
          "metadata": false,
          "name": "#%%\n",
          "is_executing": false
        }
      }
    },
    {
      "cell_type": "code",
      "execution_count": 10,
      "outputs": [
        {
          "name": "stdout",
          "text": [
            "1\n2\n"
          ],
          "output_type": "stream"
        }
      ],
      "source": "# to ignore values:\na, b, *_ \u003d (1, 2, 3, 4, 5)\nprint(a)\nprint(b)\n# won\u0027t get an error now about *_ not being used. ",
      "metadata": {
        "pycharm": {
          "metadata": false,
          "name": "#%%\n",
          "is_executing": false
        }
      }
    },
    {
      "cell_type": "code",
      "execution_count": 11,
      "outputs": [
        {
          "name": "stdout",
          "text": [
            "1\n2\n[3, 4]\n5\n"
          ],
          "output_type": "stream"
        }
      ],
      "source": "a, b, *c, d \u003d (1, 2, 3, 4, 5)\nprint(a)\nprint(b)\nprint(c) # [3, 4]\nprint(d) # 5",
      "metadata": {
        "pycharm": {
          "metadata": false,
          "name": "#%%\n",
          "is_executing": false
        }
      }
    },
    {
      "cell_type": "markdown",
      "source": "Getting and setting attributes on an object\n",
      "metadata": {
        "pycharm": {
          "metadata": false
        }
      }
    },
    {
      "cell_type": "code",
      "execution_count": 12,
      "outputs": [
        {
          "name": "stdout",
          "text": [
            "John\nSmith\n"
          ],
          "output_type": "stream"
        }
      ],
      "source": "class Person():\n    pass\n\nperson \u003d Person()\n\n# can dynamically add attributes to object like this:\nperson.first \u003d \"John\"\nperson.last \u003d \"Smith\"\n\nprint(person.first)\nprint(person.last)",
      "metadata": {
        "pycharm": {
          "metadata": false,
          "name": "#%%\n",
          "is_executing": false
        }
      }
    },
    {
      "cell_type": "code",
      "execution_count": 15,
      "outputs": [
        {
          "name": "stdout",
          "text": [
            "John\n"
          ],
          "output_type": "stream"
        }
      ],
      "source": "# what if the attribute to be set is the value of another variable?\n\nclass Person():\n    pass\n\nperson \u003d Person()\n\nfirst_key \u003d \u0027first\u0027\nfirst_val \u003d \u0027John\u0027\n\n# print(person.first)\n# we can\u0027t do: person.first_key \u003d first_val will set an attribute called first_key not what we want. \n# so need to use setattr built in function which is able to use the value of a variable. \n\nsetattr(person, \u0027first\u0027, \u0027John\u0027)\nprint(person.first)\n# got value and key that we wanted. ",
      "metadata": {
        "pycharm": {
          "metadata": false,
          "name": "#%%\n",
          "is_executing": false
        }
      }
    },
    {
      "cell_type": "code",
      "execution_count": 17,
      "outputs": [
        {
          "name": "stdout",
          "text": [
            "John\n"
          ],
          "output_type": "stream"
        }
      ],
      "source": "class Person():\n    pass\n\nperson \u003d Person()\n\nfirst_key \u003d \u0027first\u0027\nfirst_val \u003d \u0027John\u0027\n\nsetattr(person, first_key, first_val)\n\nfirst \u003d getattr(person, first_key)\n\nprint(first)",
      "metadata": {
        "pycharm": {
          "metadata": false,
          "name": "#%%\n",
          "is_executing": false
        }
      }
    },
    {
      "cell_type": "code",
      "execution_count": 18,
      "outputs": [
        {
          "name": "stdout",
          "text": [
            "Chris\nRyan\n"
          ],
          "output_type": "stream"
        }
      ],
      "source": "class Person():\n    pass\n\nperson \u003d Person()\n\nperson_info \u003d {\u0027first\u0027: \u0027Chris\u0027, \u0027last\u0027: \u0027Ryan\u0027}\n\nfor key, value in person_info.items():\n    setattr(person, key, value)\n    \nprint(person.first)\nprint(person.last)\n\n# attributes properly set in loop and got values what we wanted. ",
      "metadata": {
        "pycharm": {
          "metadata": false,
          "name": "#%%\n",
          "is_executing": false
        }
      }
    },
    {
      "cell_type": "code",
      "execution_count": 19,
      "outputs": [
        {
          "name": "stdout",
          "text": [
            "Chris\nRyan\n"
          ],
          "output_type": "stream"
        }
      ],
      "source": "# Now to print them inside a loop:\nclass Person():\n    pass\n\nperson \u003d Person()\n\nperson_info \u003d {\u0027first\u0027: \u0027Chris\u0027, \u0027last\u0027: \u0027Ryan\u0027}\n\nfor key, value in person_info.items():\n    setattr(person, key, value)\n    \nfor key in person_info.keys():\n    print(getattr(person, key))",
      "metadata": {
        "pycharm": {
          "metadata": false,
          "name": "#%%\n",
          "is_executing": false
        }
      }
    },
    {
      "cell_type": "markdown",
      "source": "Getpass function",
      "metadata": {
        "pycharm": {
          "metadata": false
        }
      }
    },
    {
      "cell_type": "code",
      "execution_count": 20,
      "outputs": [
        {
          "name": "stdout",
          "text": [
            "Logging In... \n"
          ],
          "output_type": "stream"
        }
      ],
      "source": "# to prevent seeing password typed out in terminal. So use getpass inbuilt function.\n\nfrom getpass import getpass\n\nusername \u003d input(\u0027Username: \u0027)\npassword \u003d getpass(\u0027Password \u0027)\n\nprint(\u0027Logging In... \u0027)",
      "metadata": {
        "pycharm": {
          "metadata": false,
          "name": "#%%\n",
          "is_executing": false
        }
      }
    },
    {
      "cell_type": "markdown",
      "source": "Python -m ",
      "metadata": {
        "pycharm": {
          "metadata": false
        }
      }
    },
    {
      "cell_type": "code",
      "execution_count": null,
      "outputs": [],
      "source": "# like: $ python3 -m venv myvenv\n# -m will search sys.path for module...\n# runs module after -m \n# runs scripts in another dir\n# $ python -m password (not.py)\n# current dir added to sys.path. \n\n# $ python\n# \u003e\u003e\u003e import smtpd\n# \u003e\u003e\u003e help(smtpd) \n# \u003e\u003e\u003e ... .... and can see all options and arguments when run in cmd line.\n\n# can also use:\n# \u003e\u003e\u003e dir(smtpd) for attributes and methods associated \n# if unsure what is an attribute vs a method, can inspect further by:\n# \n# \u003e\u003e\u003e dir(datetime)\n# \u003e\u003e\u003e datetime.today\n# \u003e\u003e\u003e \u003cbuilt-in method today of type object at 0x10f392618\u003e\n# \u003e\u003e\u003e datetime.today()\n# \u003e\u003e\u003e datetime.datetime(2019, 3, 31, 14, 41, 827802)\n",
      "metadata": {
        "pycharm": {
          "metadata": false,
          "name": "#%%\n"
        }
      }
    }
  ],
  "metadata": {
    "kernelspec": {
      "name": "pycharm-8be7ec78",
      "language": "python",
      "display_name": "PyCharm (pythonic)"
    },
    "language_info": {
      "codemirror_mode": {
        "name": "ipython",
        "version": 3
      },
      "file_extension": ".py",
      "mimetype": "text/x-python",
      "name": "python",
      "nbconvert_exporter": "python",
      "pygments_lexer": "ipython3",
      "version": "3.7.2"
    }
  },
  "nbformat": 4,
  "nbformat_minor": 1
}