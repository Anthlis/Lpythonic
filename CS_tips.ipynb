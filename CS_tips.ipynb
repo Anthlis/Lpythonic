{
  "cells": [
    {
      "cell_type": "code",
      "execution_count": 2,
      "metadata": {
        "collapsed": true,
        "pycharm": {
          "name": "#%%\n",
          "is_executing": false
        }
      },
      "outputs": [
        {
          "name": "stdout",
          "text": [
            "hello world\n"
          ],
          "output_type": "stream"
        },
        {
          "data": {
            "text/plain": "\u0027hello f-strings\u0027"
          },
          "metadata": {},
          "output_type": "execute_result",
          "execution_count": 2
        }
      ],
      "source": "print(\"hello world\")\nf\u0027hello f-strings\u0027"
    },
    {
      "cell_type": "code",
      "execution_count": 3,
      "outputs": [
        {
          "name": "stdout",
          "text": [
            "1\n"
          ],
          "output_type": "stream"
        }
      ],
      "source": "condition \u003d True\n\nif condition:\n    x \u003d 1\nelse:\n    x \u003d 0\n\nprint(x)",
      "metadata": {
        "pycharm": {
          "metadata": false,
          "name": "#%%\n",
          "is_executing": false
        }
      }
    },
    {
      "cell_type": "code",
      "execution_count": 7,
      "outputs": [
        {
          "name": "stdout",
          "text": [
            "1\n"
          ],
          "output_type": "stream"
        }
      ],
      "source": "x \u003d 1 if condition else 0\nprint(x)",
      "metadata": {
        "pycharm": {
          "metadata": false,
          "name": "#%%\n",
          "is_executing": false
        }
      }
    },
    {
      "cell_type": "code",
      "execution_count": 8,
      "outputs": [
        {
          "name": "stdout",
          "text": [
            "10100000000\n"
          ],
          "output_type": "stream"
        }
      ],
      "source": "num1 \u003d 10000000000\nnum2 \u003d 100000000\n\ntotal \u003d num1 + num2\nprint(total)",
      "metadata": {
        "pycharm": {
          "metadata": false,
          "name": "#%%\n",
          "is_executing": false
        }
      }
    },
    {
      "cell_type": "code",
      "execution_count": 14,
      "outputs": [
        {
          "name": "stdout",
          "text": [
            "10,100,000,000\n"
          ],
          "output_type": "stream"
        }
      ],
      "source": "num1 \u003d 10_000_000_000\nnum2 \u003d 100_000_000\n\ntotal \u003d num1 + num2\nprint(f\u0027{total:,}\u0027)\n",
      "metadata": {
        "pycharm": {
          "metadata": false,
          "name": "#%%\n",
          "is_executing": false
        }
      }
    },
    {
      "cell_type": "code",
      "execution_count": 1,
      "outputs": [
        {
          "name": "stdout",
          "text": [
            "Bob\nFred\nJim\nTravis\n"
          ],
          "output_type": "stream"
        }
      ],
      "source": "names \u003d [\u0027Bob\u0027, \u0027Fred\u0027, \u0027Jim\u0027, \u0027Travis\u0027]\n\nfor name in names:\n    print(name)",
      "metadata": {
        "pycharm": {
          "metadata": false,
          "name": "#%%\n",
          "is_executing": false
        }
      }
    },
    {
      "cell_type": "code",
      "execution_count": 4,
      "outputs": [
        {
          "name": "stdout",
          "text": [
            "0 Bob\n1 Fred\n2 Jim\n3 Travis\n"
          ],
          "output_type": "stream"
        }
      ],
      "source": "names \u003d [\u0027Bob\u0027, \u0027Fred\u0027, \u0027Jim\u0027, \u0027Travis\u0027]\n\nindex \u003d 0\nfor name in names:\n    print(index, name)\n    index +\u003d 1",
      "metadata": {
        "pycharm": {
          "metadata": false,
          "name": "#%%\n",
          "is_executing": false
        }
      }
    },
    {
      "cell_type": "code",
      "execution_count": 6,
      "outputs": [
        {
          "name": "stdout",
          "text": [
            "1 Bob\n2 Fred\n3 Jim\n4 Travis\n"
          ],
          "output_type": "stream"
        }
      ],
      "source": "names \u003d [\u0027Bob\u0027, \u0027Fred\u0027, \u0027Jim\u0027, \u0027Travis\u0027]\n\nfor index, name in enumerate(names, start\u003d1):\n    print(index, name)\n    \n",
      "metadata": {
        "pycharm": {
          "metadata": false,
          "name": "#%%\n",
          "is_executing": false
        }
      }
    }
  ],
  "metadata": {
    "language_info": {
      "codemirror_mode": {
        "name": "ipython",
        "version": 2
      },
      "file_extension": ".py",
      "mimetype": "text/x-python",
      "name": "python",
      "nbconvert_exporter": "python",
      "pygments_lexer": "ipython2",
      "version": "2.7.6"
    },
    "kernelspec": {
      "name": "pycharm-8be7ec78",
      "language": "python",
      "display_name": "PyCharm (pythonic)"
    }
  },
  "nbformat": 4,
  "nbformat_minor": 0
}