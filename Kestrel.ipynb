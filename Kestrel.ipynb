{
 "cells": [
  {
   "cell_type": "markdown",
   "metadata": {},
   "source": [
    "### Namedtuples"
   ]
  },
  {
   "cell_type": "code",
   "execution_count": 1,
   "metadata": {},
   "outputs": [],
   "source": [
    "\n",
    "#Using namedtuple is shorter than defining a class manually:\n",
    "from collections import namedtuple\n",
    "Car = namedtuple('Car', 'color mileage')\n",
    "\n",
    "# Another example: Watch out! Second positional argument has no quotes or commas.\n",
    "Animal = namedtuple('Animal', 'name age type')\n",
    "perry = Animal(name=\"perry\", age='31', type='cat')"
   ]
  },
  {
   "cell_type": "code",
   "execution_count": 2,
   "metadata": {},
   "outputs": [],
   "source": [
    "my_car = Car('red', 3812.4)"
   ]
  },
  {
   "cell_type": "code",
   "execution_count": 3,
   "metadata": {},
   "outputs": [
    {
     "data": {
      "text/plain": [
       "'red'"
      ]
     },
     "execution_count": 3,
     "metadata": {},
     "output_type": "execute_result"
    }
   ],
   "source": [
    "# New \"Car\" class works as expected:\n",
    "my_car.color"
   ]
  },
  {
   "cell_type": "code",
   "execution_count": 4,
   "metadata": {},
   "outputs": [
    {
     "data": {
      "text/plain": [
       "3812.4"
      ]
     },
     "execution_count": 4,
     "metadata": {},
     "output_type": "execute_result"
    }
   ],
   "source": [
    "my_car.mileage"
   ]
  },
  {
   "cell_type": "code",
   "execution_count": 5,
   "metadata": {},
   "outputs": [
    {
     "ename": "AttributeError",
     "evalue": "'Car' object has no attribute 'doors'",
     "traceback": [
      "\u001b[0;31m---------------------------------------------------------------------------\u001b[0m",
      "\u001b[0;31mAttributeError\u001b[0m                            Traceback (most recent call last)",
      "\u001b[0;32m<ipython-input-5-64e118e1f084>\u001b[0m in \u001b[0;36m<module>\u001b[0;34m()\u001b[0m\n\u001b[0;32m----> 1\u001b[0;31m \u001b[0mmy_car\u001b[0m\u001b[0;34m.\u001b[0m\u001b[0mdoors\u001b[0m\u001b[0;34m\u001b[0m\u001b[0m\n\u001b[0m",
      "\u001b[0;31mAttributeError\u001b[0m: 'Car' object has no attribute 'doors'"
     ],
     "output_type": "error"
    }
   ],
   "source": [
    "my_car.doors"
   ]
  },
  {
   "cell_type": "code",
   "execution_count": 6,
   "metadata": {},
   "outputs": [
    {
     "data": {
      "text/plain": [
       "Car(color='red', mileage=3812.4)"
      ]
     },
     "execution_count": 6,
     "metadata": {},
     "output_type": "execute_result"
    }
   ],
   "source": [
    "# Get a nice string repr for free:\n",
    "my_car"
   ]
  },
  {
   "cell_type": "code",
   "execution_count": 7,
   "metadata": {},
   "outputs": [
    {
     "ename": "AttributeError",
     "evalue": "can't set attribute",
     "traceback": [
      "\u001b[0;31m---------------------------------------------------------------------------\u001b[0m",
      "\u001b[0;31mAttributeError\u001b[0m                            Traceback (most recent call last)",
      "\u001b[0;32m<ipython-input-7-23a0138952f3>\u001b[0m in \u001b[0;36m<module>\u001b[0;34m()\u001b[0m\n\u001b[1;32m      1\u001b[0m \u001b[0;31m# Like tuples, namedtuples are immutable:\u001b[0m\u001b[0;34m\u001b[0m\u001b[0;34m\u001b[0m\u001b[0m\n\u001b[0;32m----> 2\u001b[0;31m \u001b[0mmy_car\u001b[0m\u001b[0;34m.\u001b[0m\u001b[0mcolor\u001b[0m \u001b[0;34m=\u001b[0m \u001b[0;34m'blue'\u001b[0m\u001b[0;34m\u001b[0m\u001b[0m\n\u001b[0m",
      "\u001b[0;31mAttributeError\u001b[0m: can't set attribute"
     ],
     "output_type": "error"
    }
   ],
   "source": [
    "# Like tuples, namedtuples are immutable:\n",
    "my_car.color = 'blue'"
   ]
  },
  {
   "cell_type": "code",
   "execution_count": 8,
   "metadata": {},
   "outputs": [
    {
     "data": {
      "text/plain": [
       "'perry'"
      ]
     },
     "execution_count": 8,
     "metadata": {},
     "output_type": "execute_result"
    }
   ],
   "source": [
    "perry.name"
   ]
  },
  {
   "cell_type": "code",
   "execution_count": 9,
   "metadata": {},
   "outputs": [
    {
     "data": {
      "text/plain": [
       "'31'"
      ]
     },
     "execution_count": 9,
     "metadata": {},
     "output_type": "execute_result"
    }
   ],
   "source": [
    "perry.age"
   ]
  },
  {
   "cell_type": "code",
   "execution_count": 10,
   "metadata": {},
   "outputs": [
    {
     "data": {
      "text/plain": [
       "'cat'"
      ]
     },
     "execution_count": 10,
     "metadata": {},
     "output_type": "execute_result"
    }
   ],
   "source": [
    "perry.type"
   ]
  },
  {
   "cell_type": "code",
   "execution_count": 11,
   "metadata": {},
   "outputs": [
    {
     "name": "stdout",
     "output_type": "stream",
     "text": [
      "perry\n"
     ]
    }
   ],
   "source": [
    "print(perry[0])"
   ]
  },
  {
   "cell_type": "markdown",
   "metadata": {},
   "source": [
    "### The get() method on dictionaries"
   ]
  },
  {
   "cell_type": "code",
   "execution_count": 12,
   "metadata": {},
   "outputs": [],
   "source": [
    "name_for_userid = {\n",
    "    382: \"Alice\",\n",
    "    590: \"Bob\",\n",
    "    951: \"Dilbert\",\n",
    "}"
   ]
  },
  {
   "cell_type": "code",
   "execution_count": 16,
   "metadata": {},
   "outputs": [],
   "source": [
    "def greeting(userid):\n",
    "    return \"Hi %s!\" % name_for_userid.get(userid, \"there\")"
   ]
  },
  {
   "cell_type": "code",
   "execution_count": 17,
   "metadata": {},
   "outputs": [
    {
     "data": {
      "text/plain": [
       "'Hi Alice!'"
      ]
     },
     "execution_count": 17,
     "metadata": {},
     "output_type": "execute_result"
    }
   ],
   "source": [
    "greeting(382)"
   ]
  },
  {
   "cell_type": "code",
   "execution_count": 18,
   "metadata": {},
   "outputs": [
    {
     "data": {
      "text/plain": [
       "'Hi there!'"
      ]
     },
     "execution_count": 18,
     "metadata": {},
     "output_type": "execute_result"
    }
   ],
   "source": [
    "greeting(333333)"
   ]
  },
  {
   "cell_type": "markdown",
   "metadata": {},
   "source": [
    "### When to use __repr__ vs __str__"
   ]
  },
  {
   "cell_type": "code",
   "execution_count": 21,
   "metadata": {},
   "outputs": [],
   "source": [
    "import datetime\n",
    "today = datetime.date.today()"
   ]
  },
  {
   "cell_type": "code",
   "execution_count": 22,
   "metadata": {},
   "outputs": [
    {
     "data": {
      "text/plain": [
       "'2018-10-17'"
      ]
     },
     "execution_count": 22,
     "metadata": {},
     "output_type": "execute_result"
    }
   ],
   "source": [
    "# result of __Str__ should be readable:\n",
    "str(today)"
   ]
  },
  {
   "cell_type": "code",
   "execution_count": 23,
   "metadata": {},
   "outputs": [
    {
     "data": {
      "text/plain": [
       "'datetime.date(2018, 10, 17)'"
      ]
     },
     "execution_count": 23,
     "metadata": {},
     "output_type": "execute_result"
    }
   ],
   "source": [
    "# result of __repr__ should be unambiguous:\n",
    "repr(today)"
   ]
  },
  {
   "cell_type": "code",
   "execution_count": 24,
   "metadata": {},
   "outputs": [
    {
     "data": {
      "text/plain": [
       "datetime.date(2018, 10, 17)"
      ]
     },
     "execution_count": 24,
     "metadata": {},
     "output_type": "execute_result"
    }
   ],
   "source": [
    "# Python interpreter sessions are \n",
    "# __repr__ to inspect objects:\n",
    "today"
   ]
  },
  {
   "cell_type": "code",
   "execution_count": 26,
   "metadata": {},
   "outputs": [
    {
     "data": {
      "text/plain": [
       "{'__name__': '__main__',\n",
       " '__doc__': 'Automatically created module for IPython interactive environment',\n",
       " '__package__': None,\n",
       " '__loader__': None,\n",
       " '__spec__': None,\n",
       " '__builtin__': <module 'builtins' (built-in)>,\n",
       " '__builtins__': <module 'builtins' (built-in)>,\n",
       " '_ih': ['',\n",
       "  \"from collections import namedtuple\\nCar = namedtuple('Car', 'color mileage')\",\n",
       "  \"my_car = Car('red', 3812.4)\",\n",
       "  'my_car.color',\n",
       "  'my_car.mileage',\n",
       "  'my_car',\n",
       "  \"my_car.color = 'blue'\",\n",
       "  'name_for_userid = {\\n    382: \"Alice\",\\n    590: \"Bob\",\\n    951: \"Dilbert\",\\n}',\n",
       "  'def greeting(userid):\\n    return \"Hi %s!\" % name_for_userid.get(userid, \"there\")',\n",
       "  'greeting(382)',\n",
       "  'greeting(333333)',\n",
       "  'my_car.doors',\n",
       "  \"my_car = Car('red', 3812.4)\",\n",
       "  '# New \"Car\" class works as expected:\\nmy_car.color',\n",
       "  'my_car.mileage',\n",
       "  'my_car.doors',\n",
       "  '# Get a nice string repr for free:\\nmy_car',\n",
       "  \"\\n#Using namedtuple is shorter than defining a class manually:\\nfrom collections import namedtuple\\nCar = namedtuple('Car1', 'color mileage')\",\n",
       "  \"my_car = Car('red', 3812.4)\",\n",
       "  '# New \"Car\" class works as expected:\\nmy_car.colour',\n",
       "  '# New \"Car\" class works as expected:\\nmy_car.color',\n",
       "  'import datetime\\ntoday = datetime.date.today()',\n",
       "  '# result of __Str__ should be readable:\\nstr(today)',\n",
       "  '# result of __repr__ should be unambiguous:\\nrepr(today)',\n",
       "  '# Python interpreter sessions are \\n# __repr__ to inspect objects:\\ntoday',\n",
       "  'today()',\n",
       "  'globals()'],\n",
       " '_oh': {3: 'red',\n",
       "  4: 3812.4,\n",
       "  5: Car(color='red', mileage=3812.4),\n",
       "  9: 'Hi Alice!',\n",
       "  10: 'Hi there!',\n",
       "  13: 'red',\n",
       "  14: 3812.4,\n",
       "  16: Car(color='red', mileage=3812.4),\n",
       "  20: 'red',\n",
       "  22: '2018-10-17',\n",
       "  23: 'datetime.date(2018, 10, 17)',\n",
       "  24: datetime.date(2018, 10, 17)},\n",
       " '_dh': ['c:\\\\Users\\\\ListerA\\\\AppData\\\\Local\\\\Programs\\\\Python\\\\Python36-32\\\\Scripts'],\n",
       " 'In': ['',\n",
       "  \"from collections import namedtuple\\nCar = namedtuple('Car', 'color mileage')\",\n",
       "  \"my_car = Car('red', 3812.4)\",\n",
       "  'my_car.color',\n",
       "  'my_car.mileage',\n",
       "  'my_car',\n",
       "  \"my_car.color = 'blue'\",\n",
       "  'name_for_userid = {\\n    382: \"Alice\",\\n    590: \"Bob\",\\n    951: \"Dilbert\",\\n}',\n",
       "  'def greeting(userid):\\n    return \"Hi %s!\" % name_for_userid.get(userid, \"there\")',\n",
       "  'greeting(382)',\n",
       "  'greeting(333333)',\n",
       "  'my_car.doors',\n",
       "  \"my_car = Car('red', 3812.4)\",\n",
       "  '# New \"Car\" class works as expected:\\nmy_car.color',\n",
       "  'my_car.mileage',\n",
       "  'my_car.doors',\n",
       "  '# Get a nice string repr for free:\\nmy_car',\n",
       "  \"\\n#Using namedtuple is shorter than defining a class manually:\\nfrom collections import namedtuple\\nCar = namedtuple('Car1', 'color mileage')\",\n",
       "  \"my_car = Car('red', 3812.4)\",\n",
       "  '# New \"Car\" class works as expected:\\nmy_car.colour',\n",
       "  '# New \"Car\" class works as expected:\\nmy_car.color',\n",
       "  'import datetime\\ntoday = datetime.date.today()',\n",
       "  '# result of __Str__ should be readable:\\nstr(today)',\n",
       "  '# result of __repr__ should be unambiguous:\\nrepr(today)',\n",
       "  '# Python interpreter sessions are \\n# __repr__ to inspect objects:\\ntoday',\n",
       "  'today()',\n",
       "  'globals()'],\n",
       " 'Out': {3: 'red',\n",
       "  4: 3812.4,\n",
       "  5: Car(color='red', mileage=3812.4),\n",
       "  9: 'Hi Alice!',\n",
       "  10: 'Hi there!',\n",
       "  13: 'red',\n",
       "  14: 3812.4,\n",
       "  16: Car(color='red', mileage=3812.4),\n",
       "  20: 'red',\n",
       "  22: '2018-10-17',\n",
       "  23: 'datetime.date(2018, 10, 17)',\n",
       "  24: datetime.date(2018, 10, 17)},\n",
       " 'get_ipython': <bound method InteractiveShell.get_ipython of <ipykernel.zmqshell.ZMQInteractiveShell object at 0x029EE390>>,\n",
       " 'exit': <IPython.core.autocall.ZMQExitAutocall at 0x4150fb0>,\n",
       " 'quit': <IPython.core.autocall.ZMQExitAutocall at 0x4150fb0>,\n",
       " '_': datetime.date(2018, 10, 17),\n",
       " '__': 'datetime.date(2018, 10, 17)',\n",
       " '___': '2018-10-17',\n",
       " '_i': 'today()',\n",
       " '_ii': '# Python interpreter sessions are \\n# __repr__ to inspect objects:\\ntoday',\n",
       " '_iii': '# result of __repr__ should be unambiguous:\\nrepr(today)',\n",
       " '_i1': \"from collections import namedtuple\\nCar = namedtuple('Car', 'color mileage')\",\n",
       " 'namedtuple': <function collections.namedtuple(typename, field_names, *, verbose=False, rename=False, module=None)>,\n",
       " 'Car': __main__.Car1,\n",
       " '_i2': \"my_car = Car('red', 3812.4)\",\n",
       " 'my_car': Car1(color='red', mileage=3812.4),\n",
       " '_i3': 'my_car.color',\n",
       " '_3': 'red',\n",
       " '_i4': 'my_car.mileage',\n",
       " '_4': 3812.4,\n",
       " '_i5': 'my_car',\n",
       " '_5': Car(color='red', mileage=3812.4),\n",
       " '_i6': \"my_car.color = 'blue'\",\n",
       " '_i7': 'name_for_userid = {\\n    382: \"Alice\",\\n    590: \"Bob\",\\n    951: \"Dilbert\",\\n}',\n",
       " 'name_for_userid': {382: 'Alice', 590: 'Bob', 951: 'Dilbert'},\n",
       " '_i8': 'def greeting(userid):\\n    return \"Hi %s!\" % name_for_userid.get(userid, \"there\")',\n",
       " 'greeting': <function __main__.greeting(userid)>,\n",
       " '_i9': 'greeting(382)',\n",
       " '_9': 'Hi Alice!',\n",
       " '_i10': 'greeting(333333)',\n",
       " '_10': 'Hi there!',\n",
       " '_i11': 'my_car.doors',\n",
       " '_i12': \"my_car = Car('red', 3812.4)\",\n",
       " '_i13': '# New \"Car\" class works as expected:\\nmy_car.color',\n",
       " '_13': 'red',\n",
       " '_i14': 'my_car.mileage',\n",
       " '_14': 3812.4,\n",
       " '_i15': 'my_car.doors',\n",
       " '_i16': '# Get a nice string repr for free:\\nmy_car',\n",
       " '_16': Car(color='red', mileage=3812.4),\n",
       " '_i17': \"\\n#Using namedtuple is shorter than defining a class manually:\\nfrom collections import namedtuple\\nCar = namedtuple('Car1', 'color mileage')\",\n",
       " '_i18': \"my_car = Car('red', 3812.4)\",\n",
       " '_i19': '# New \"Car\" class works as expected:\\nmy_car.colour',\n",
       " '_i20': '# New \"Car\" class works as expected:\\nmy_car.color',\n",
       " '_20': 'red',\n",
       " '_i21': 'import datetime\\ntoday = datetime.date.today()',\n",
       " 'datetime': <module 'datetime' from 'c:\\\\users\\\\listera\\\\appdata\\\\local\\\\programs\\\\python\\\\python36-32\\\\lib\\\\datetime.py'>,\n",
       " 'today': datetime.date(2018, 10, 17),\n",
       " '_i22': '# result of __Str__ should be readable:\\nstr(today)',\n",
       " '_22': '2018-10-17',\n",
       " '_i23': '# result of __repr__ should be unambiguous:\\nrepr(today)',\n",
       " '_23': 'datetime.date(2018, 10, 17)',\n",
       " '_i24': '# Python interpreter sessions are \\n# __repr__ to inspect objects:\\ntoday',\n",
       " '_24': datetime.date(2018, 10, 17),\n",
       " '_i25': 'today()',\n",
       " '_i26': 'globals()'}"
      ]
     },
     "execution_count": 26,
     "metadata": {},
     "output_type": "execute_result"
    }
   ],
   "source": [
    "globals()"
   ]
  },
  {
   "cell_type": "code",
   "execution_count": 27,
   "metadata": {},
   "outputs": [
    {
     "data": {
      "text/plain": [
       "{'__name__': '__main__',\n",
       " '__doc__': 'Automatically created module for IPython interactive environment',\n",
       " '__package__': None,\n",
       " '__loader__': None,\n",
       " '__spec__': None,\n",
       " '__builtin__': <module 'builtins' (built-in)>,\n",
       " '__builtins__': <module 'builtins' (built-in)>,\n",
       " '_ih': ['',\n",
       "  \"from collections import namedtuple\\nCar = namedtuple('Car', 'color mileage')\",\n",
       "  \"my_car = Car('red', 3812.4)\",\n",
       "  'my_car.color',\n",
       "  'my_car.mileage',\n",
       "  'my_car',\n",
       "  \"my_car.color = 'blue'\",\n",
       "  'name_for_userid = {\\n    382: \"Alice\",\\n    590: \"Bob\",\\n    951: \"Dilbert\",\\n}',\n",
       "  'def greeting(userid):\\n    return \"Hi %s!\" % name_for_userid.get(userid, \"there\")',\n",
       "  'greeting(382)',\n",
       "  'greeting(333333)',\n",
       "  'my_car.doors',\n",
       "  \"my_car = Car('red', 3812.4)\",\n",
       "  '# New \"Car\" class works as expected:\\nmy_car.color',\n",
       "  'my_car.mileage',\n",
       "  'my_car.doors',\n",
       "  '# Get a nice string repr for free:\\nmy_car',\n",
       "  \"\\n#Using namedtuple is shorter than defining a class manually:\\nfrom collections import namedtuple\\nCar = namedtuple('Car1', 'color mileage')\",\n",
       "  \"my_car = Car('red', 3812.4)\",\n",
       "  '# New \"Car\" class works as expected:\\nmy_car.colour',\n",
       "  '# New \"Car\" class works as expected:\\nmy_car.color',\n",
       "  'import datetime\\ntoday = datetime.date.today()',\n",
       "  '# result of __Str__ should be readable:\\nstr(today)',\n",
       "  '# result of __repr__ should be unambiguous:\\nrepr(today)',\n",
       "  '# Python interpreter sessions are \\n# __repr__ to inspect objects:\\ntoday',\n",
       "  'today()',\n",
       "  'globals()',\n",
       "  'locals()'],\n",
       " '_oh': {3: 'red',\n",
       "  4: 3812.4,\n",
       "  5: Car(color='red', mileage=3812.4),\n",
       "  9: 'Hi Alice!',\n",
       "  10: 'Hi there!',\n",
       "  13: 'red',\n",
       "  14: 3812.4,\n",
       "  16: Car(color='red', mileage=3812.4),\n",
       "  20: 'red',\n",
       "  22: '2018-10-17',\n",
       "  23: 'datetime.date(2018, 10, 17)',\n",
       "  24: datetime.date(2018, 10, 17),\n",
       "  26: {...}},\n",
       " '_dh': ['c:\\\\Users\\\\ListerA\\\\AppData\\\\Local\\\\Programs\\\\Python\\\\Python36-32\\\\Scripts'],\n",
       " 'In': ['',\n",
       "  \"from collections import namedtuple\\nCar = namedtuple('Car', 'color mileage')\",\n",
       "  \"my_car = Car('red', 3812.4)\",\n",
       "  'my_car.color',\n",
       "  'my_car.mileage',\n",
       "  'my_car',\n",
       "  \"my_car.color = 'blue'\",\n",
       "  'name_for_userid = {\\n    382: \"Alice\",\\n    590: \"Bob\",\\n    951: \"Dilbert\",\\n}',\n",
       "  'def greeting(userid):\\n    return \"Hi %s!\" % name_for_userid.get(userid, \"there\")',\n",
       "  'greeting(382)',\n",
       "  'greeting(333333)',\n",
       "  'my_car.doors',\n",
       "  \"my_car = Car('red', 3812.4)\",\n",
       "  '# New \"Car\" class works as expected:\\nmy_car.color',\n",
       "  'my_car.mileage',\n",
       "  'my_car.doors',\n",
       "  '# Get a nice string repr for free:\\nmy_car',\n",
       "  \"\\n#Using namedtuple is shorter than defining a class manually:\\nfrom collections import namedtuple\\nCar = namedtuple('Car1', 'color mileage')\",\n",
       "  \"my_car = Car('red', 3812.4)\",\n",
       "  '# New \"Car\" class works as expected:\\nmy_car.colour',\n",
       "  '# New \"Car\" class works as expected:\\nmy_car.color',\n",
       "  'import datetime\\ntoday = datetime.date.today()',\n",
       "  '# result of __Str__ should be readable:\\nstr(today)',\n",
       "  '# result of __repr__ should be unambiguous:\\nrepr(today)',\n",
       "  '# Python interpreter sessions are \\n# __repr__ to inspect objects:\\ntoday',\n",
       "  'today()',\n",
       "  'globals()',\n",
       "  'locals()'],\n",
       " 'Out': {3: 'red',\n",
       "  4: 3812.4,\n",
       "  5: Car(color='red', mileage=3812.4),\n",
       "  9: 'Hi Alice!',\n",
       "  10: 'Hi there!',\n",
       "  13: 'red',\n",
       "  14: 3812.4,\n",
       "  16: Car(color='red', mileage=3812.4),\n",
       "  20: 'red',\n",
       "  22: '2018-10-17',\n",
       "  23: 'datetime.date(2018, 10, 17)',\n",
       "  24: datetime.date(2018, 10, 17),\n",
       "  26: {...}},\n",
       " 'get_ipython': <bound method InteractiveShell.get_ipython of <ipykernel.zmqshell.ZMQInteractiveShell object at 0x029EE390>>,\n",
       " 'exit': <IPython.core.autocall.ZMQExitAutocall at 0x4150fb0>,\n",
       " 'quit': <IPython.core.autocall.ZMQExitAutocall at 0x4150fb0>,\n",
       " '_': {...},\n",
       " '__': datetime.date(2018, 10, 17),\n",
       " '___': 'datetime.date(2018, 10, 17)',\n",
       " '_i': 'globals()',\n",
       " '_ii': 'today()',\n",
       " '_iii': '# Python interpreter sessions are \\n# __repr__ to inspect objects:\\ntoday',\n",
       " '_i1': \"from collections import namedtuple\\nCar = namedtuple('Car', 'color mileage')\",\n",
       " 'namedtuple': <function collections.namedtuple(typename, field_names, *, verbose=False, rename=False, module=None)>,\n",
       " 'Car': __main__.Car1,\n",
       " '_i2': \"my_car = Car('red', 3812.4)\",\n",
       " 'my_car': Car1(color='red', mileage=3812.4),\n",
       " '_i3': 'my_car.color',\n",
       " '_3': 'red',\n",
       " '_i4': 'my_car.mileage',\n",
       " '_4': 3812.4,\n",
       " '_i5': 'my_car',\n",
       " '_5': Car(color='red', mileage=3812.4),\n",
       " '_i6': \"my_car.color = 'blue'\",\n",
       " '_i7': 'name_for_userid = {\\n    382: \"Alice\",\\n    590: \"Bob\",\\n    951: \"Dilbert\",\\n}',\n",
       " 'name_for_userid': {382: 'Alice', 590: 'Bob', 951: 'Dilbert'},\n",
       " '_i8': 'def greeting(userid):\\n    return \"Hi %s!\" % name_for_userid.get(userid, \"there\")',\n",
       " 'greeting': <function __main__.greeting(userid)>,\n",
       " '_i9': 'greeting(382)',\n",
       " '_9': 'Hi Alice!',\n",
       " '_i10': 'greeting(333333)',\n",
       " '_10': 'Hi there!',\n",
       " '_i11': 'my_car.doors',\n",
       " '_i12': \"my_car = Car('red', 3812.4)\",\n",
       " '_i13': '# New \"Car\" class works as expected:\\nmy_car.color',\n",
       " '_13': 'red',\n",
       " '_i14': 'my_car.mileage',\n",
       " '_14': 3812.4,\n",
       " '_i15': 'my_car.doors',\n",
       " '_i16': '# Get a nice string repr for free:\\nmy_car',\n",
       " '_16': Car(color='red', mileage=3812.4),\n",
       " '_i17': \"\\n#Using namedtuple is shorter than defining a class manually:\\nfrom collections import namedtuple\\nCar = namedtuple('Car1', 'color mileage')\",\n",
       " '_i18': \"my_car = Car('red', 3812.4)\",\n",
       " '_i19': '# New \"Car\" class works as expected:\\nmy_car.colour',\n",
       " '_i20': '# New \"Car\" class works as expected:\\nmy_car.color',\n",
       " '_20': 'red',\n",
       " '_i21': 'import datetime\\ntoday = datetime.date.today()',\n",
       " 'datetime': <module 'datetime' from 'c:\\\\users\\\\listera\\\\appdata\\\\local\\\\programs\\\\python\\\\python36-32\\\\lib\\\\datetime.py'>,\n",
       " 'today': datetime.date(2018, 10, 17),\n",
       " '_i22': '# result of __Str__ should be readable:\\nstr(today)',\n",
       " '_22': '2018-10-17',\n",
       " '_i23': '# result of __repr__ should be unambiguous:\\nrepr(today)',\n",
       " '_23': 'datetime.date(2018, 10, 17)',\n",
       " '_i24': '# Python interpreter sessions are \\n# __repr__ to inspect objects:\\ntoday',\n",
       " '_24': datetime.date(2018, 10, 17),\n",
       " '_i25': 'today()',\n",
       " '_i26': 'globals()',\n",
       " '_26': {...},\n",
       " '_i27': 'locals()'}"
      ]
     },
     "execution_count": 27,
     "metadata": {},
     "output_type": "execute_result"
    }
   ],
   "source": [
    "locals()"
   ]
  },
  {
   "cell_type": "markdown",
   "metadata": {},
   "source": [
    "### appending to a dict"
   ]
  },
  {
   "cell_type": "code",
   "execution_count": 3,
   "metadata": {},
   "outputs": [
    {
     "name": "stdout",
     "output_type": "stream",
     "text": [
      "{'key': 'value'}\n"
     ]
    }
   ],
   "source": [
    "### appending to a dict\n",
    "d = {'key':'value'}\n",
    "print(d)"
   ]
  },
  {
   "cell_type": "code",
   "execution_count": 2,
   "metadata": {},
   "outputs": [
    {
     "name": "stdout",
     "output_type": "stream",
     "text": [
      "{'key': 'value', 'mynewkey': 'mynewvalue'}\n"
     ]
    }
   ],
   "source": [
    "d['mynewkey'] = 'mynewvalue'\n",
    "print(d)"
   ]
  },
  {
   "cell_type": "markdown",
   "metadata": {},
   "source": [
    "### pprinting nicely"
   ]
  },
  {
   "cell_type": "code",
   "execution_count": 4,
   "metadata": {},
   "outputs": [],
   "source": [
    "from pprint import pprint\n",
    "my_dict = {'name': 'Anthony', 'age': 43, 'job': 'engineer'}"
   ]
  },
  {
   "cell_type": "code",
   "execution_count": 5,
   "metadata": {},
   "outputs": [
    {
     "data": {
      "text/plain": [
       "{'name': 'Anthony', 'age': 43, 'job': 'engineer'}"
      ]
     },
     "execution_count": 5,
     "metadata": {},
     "output_type": "execute_result"
    }
   ],
   "source": [
    "my_dict"
   ]
  },
  {
   "cell_type": "code",
   "execution_count": 6,
   "metadata": {},
   "outputs": [
    {
     "name": "stdout",
     "output_type": "stream",
     "text": [
      "{'age': 43, 'job': 'engineer', 'name': 'Anthony'}\n"
     ]
    }
   ],
   "source": [
    "pprint(my_dict)"
   ]
  },
  {
   "cell_type": "code",
   "execution_count": 7,
   "metadata": {},
   "outputs": [],
   "source": [
    "my_dict['hobby'] = 'flying'"
   ]
  },
  {
   "cell_type": "code",
   "execution_count": 8,
   "metadata": {},
   "outputs": [
    {
     "name": "stdout",
     "output_type": "stream",
     "text": [
      "{'age': 43, 'hobby': 'flying', 'job': 'engineer', 'name': 'Anthony'}\n"
     ]
    }
   ],
   "source": [
    "pprint(my_dict)"
   ]
  },
  {
   "cell_type": "code",
   "execution_count": 9,
   "metadata": {},
   "outputs": [
    {
     "data": {
      "text/plain": [
       "['__add__',\n",
       " '__class__',\n",
       " '__contains__',\n",
       " '__delattr__',\n",
       " '__dir__',\n",
       " '__doc__',\n",
       " '__eq__',\n",
       " '__format__',\n",
       " '__ge__',\n",
       " '__getattribute__',\n",
       " '__getitem__',\n",
       " '__getnewargs__',\n",
       " '__gt__',\n",
       " '__hash__',\n",
       " '__init__',\n",
       " '__init_subclass__',\n",
       " '__iter__',\n",
       " '__le__',\n",
       " '__len__',\n",
       " '__lt__',\n",
       " '__mod__',\n",
       " '__mul__',\n",
       " '__ne__',\n",
       " '__new__',\n",
       " '__reduce__',\n",
       " '__reduce_ex__',\n",
       " '__repr__',\n",
       " '__rmod__',\n",
       " '__rmul__',\n",
       " '__setattr__',\n",
       " '__sizeof__',\n",
       " '__str__',\n",
       " '__subclasshook__',\n",
       " 'capitalize',\n",
       " 'casefold',\n",
       " 'center',\n",
       " 'count',\n",
       " 'encode',\n",
       " 'endswith',\n",
       " 'expandtabs',\n",
       " 'find',\n",
       " 'format',\n",
       " 'format_map',\n",
       " 'index',\n",
       " 'isalnum',\n",
       " 'isalpha',\n",
       " 'isdecimal',\n",
       " 'isdigit',\n",
       " 'isidentifier',\n",
       " 'islower',\n",
       " 'isnumeric',\n",
       " 'isprintable',\n",
       " 'isspace',\n",
       " 'istitle',\n",
       " 'isupper',\n",
       " 'join',\n",
       " 'ljust',\n",
       " 'lower',\n",
       " 'lstrip',\n",
       " 'maketrans',\n",
       " 'partition',\n",
       " 'replace',\n",
       " 'rfind',\n",
       " 'rindex',\n",
       " 'rjust',\n",
       " 'rpartition',\n",
       " 'rsplit',\n",
       " 'rstrip',\n",
       " 'split',\n",
       " 'splitlines',\n",
       " 'startswith',\n",
       " 'strip',\n",
       " 'swapcase',\n",
       " 'title',\n",
       " 'translate',\n",
       " 'upper',\n",
       " 'zfill']"
      ]
     },
     "execution_count": 9,
     "metadata": {},
     "output_type": "execute_result"
    }
   ],
   "source": [
    "dir(str)"
   ]
  },
  {
   "cell_type": "code",
   "execution_count": 10,
   "metadata": {},
   "outputs": [
    {
     "data": {
      "text/plain": [
       "type"
      ]
     },
     "execution_count": 10,
     "metadata": {},
     "output_type": "execute_result"
    }
   ],
   "source": [
    "type(str)"
   ]
  },
  {
   "cell_type": "code",
   "execution_count": 11,
   "metadata": {},
   "outputs": [
    {
     "data": {
      "text/plain": [
       "str"
      ]
     },
     "execution_count": 11,
     "metadata": {},
     "output_type": "execute_result"
    }
   ],
   "source": [
    "a = 'string_text'\n",
    "type(a)"
   ]
  },
  {
   "cell_type": "code",
   "execution_count": 12,
   "metadata": {},
   "outputs": [
    {
     "name": "stdout",
     "output_type": "stream",
     "text": [
      "['hi']\n"
     ]
    }
   ],
   "source": [
    "foo = ['hi']\n",
    "print(foo)"
   ]
  },
  {
   "cell_type": "code",
   "execution_count": 15,
   "metadata": {},
   "outputs": [
    {
     "name": "stdout",
     "output_type": "stream",
     "text": [
      "['hi', 'bye']\n"
     ]
    }
   ],
   "source": [
    "bar = foo\n",
    "bar += ['bye']\n",
    "print(foo)"
   ]
  },
  {
   "cell_type": "code",
   "execution_count": 16,
   "metadata": {},
   "outputs": [],
   "source": [
    "###"
   ]
  },
  {
   "cell_type": "code",
   "execution_count": 17,
   "metadata": {},
   "outputs": [],
   "source": [
    "def add_to(num, target=[]):\n",
    "    target.append(num)\n",
    "    return target"
   ]
  },
  {
   "cell_type": "code",
   "execution_count": 18,
   "metadata": {},
   "outputs": [
    {
     "data": {
      "text/plain": [
       "[1]"
      ]
     },
     "execution_count": 18,
     "metadata": {},
     "output_type": "execute_result"
    }
   ],
   "source": [
    "add_to(1)"
   ]
  },
  {
   "cell_type": "code",
   "execution_count": 19,
   "metadata": {},
   "outputs": [
    {
     "data": {
      "text/plain": [
       "[1, 2]"
      ]
     },
     "execution_count": 19,
     "metadata": {},
     "output_type": "execute_result"
    }
   ],
   "source": [
    "add_to(2)"
   ]
  },
  {
   "cell_type": "code",
   "execution_count": 20,
   "metadata": {},
   "outputs": [
    {
     "data": {
      "text/plain": [
       "[1, 2, 99]"
      ]
     },
     "execution_count": 20,
     "metadata": {},
     "output_type": "execute_result"
    }
   ],
   "source": [
    "add_to(99)"
   ]
  },
  {
   "cell_type": "markdown",
   "metadata": {},
   "source": [
    "In Python the default\n",
    "arguments are evaluated once when the function is defined, not each time\n",
    "the function is called. You should never define default arguments of mutable\n",
    "type unless you know what you are doing. You should do something like this:"
   ]
  },
  {
   "cell_type": "code",
   "execution_count": 21,
   "metadata": {},
   "outputs": [],
   "source": [
    "def add_to(element, target=None):\n",
    "    if target is None:\n",
    "        target = []\n",
    "    target.append(element)\n",
    "    return target"
   ]
  },
  {
   "cell_type": "code",
   "execution_count": 22,
   "metadata": {},
   "outputs": [
    {
     "data": {
      "text/plain": [
       "[42]"
      ]
     },
     "execution_count": 22,
     "metadata": {},
     "output_type": "execute_result"
    }
   ],
   "source": [
    "add_to(42)"
   ]
  },
  {
   "cell_type": "code",
   "execution_count": 23,
   "metadata": {},
   "outputs": [
    {
     "data": {
      "text/plain": [
       "[42]"
      ]
     },
     "execution_count": 23,
     "metadata": {},
     "output_type": "execute_result"
    }
   ],
   "source": [
    "add_to(42)"
   ]
  },
  {
   "cell_type": "code",
   "execution_count": 24,
   "metadata": {},
   "outputs": [
    {
     "data": {
      "text/plain": [
       "[43]"
      ]
     },
     "execution_count": 24,
     "metadata": {},
     "output_type": "execute_result"
    }
   ],
   "source": [
    "add_to(43)"
   ]
  },
  {
   "cell_type": "code",
   "execution_count": 25,
   "metadata": {},
   "outputs": [
    {
     "data": {
      "text/plain": [
       "<function __main__.add_to(element, target=None)>"
      ]
     },
     "execution_count": 25,
     "metadata": {},
     "output_type": "execute_result"
    }
   ],
   "source": [
    "add_to"
   ]
  },
  {
   "cell_type": "code",
   "execution_count": 28,
   "metadata": {},
   "outputs": [
    {
     "data": {
      "text/plain": [
       "function"
      ]
     },
     "execution_count": 28,
     "metadata": {},
     "output_type": "execute_result"
    }
   ],
   "source": [
    "type(add_to)"
   ]
  },
  {
   "cell_type": "code",
   "execution_count": 29,
   "metadata": {},
   "outputs": [
    {
     "data": {
      "text/plain": [
       "['__annotations__',\n",
       " '__call__',\n",
       " '__class__',\n",
       " '__closure__',\n",
       " '__code__',\n",
       " '__defaults__',\n",
       " '__delattr__',\n",
       " '__dict__',\n",
       " '__dir__',\n",
       " '__doc__',\n",
       " '__eq__',\n",
       " '__format__',\n",
       " '__ge__',\n",
       " '__get__',\n",
       " '__getattribute__',\n",
       " '__globals__',\n",
       " '__gt__',\n",
       " '__hash__',\n",
       " '__init__',\n",
       " '__init_subclass__',\n",
       " '__kwdefaults__',\n",
       " '__le__',\n",
       " '__lt__',\n",
       " '__module__',\n",
       " '__name__',\n",
       " '__ne__',\n",
       " '__new__',\n",
       " '__qualname__',\n",
       " '__reduce__',\n",
       " '__reduce_ex__',\n",
       " '__repr__',\n",
       " '__setattr__',\n",
       " '__sizeof__',\n",
       " '__str__',\n",
       " '__subclasshook__']"
      ]
     },
     "execution_count": 29,
     "metadata": {},
     "output_type": "execute_result"
    }
   ],
   "source": [
    "dir(add_to)"
   ]
  },
  {
   "cell_type": "markdown",
   "metadata": {},
   "source": [
    "# Exceptions\n"
   ]
  },
  {
   "cell_type": "code",
   "execution_count": 11,
   "metadata": {},
   "outputs": [],
   "source": [
    "# Python's `for` and `while` loops\n",
    "# support an `else` clause that executes\n",
    "# only if the loops terminates without\n",
    "# hitting a `break` statement.\n",
    "\n",
    "def contains(haystack, needle):\n",
    "    \"\"\"\n",
    "    Throw a ValueError if `needle` not\n",
    "    in `haystack`.\n",
    "    \"\"\"\n",
    "    for item in haystack:\n",
    "        if item == needle:\n",
    "            break\n",
    "    else:\n",
    "        # The `else` here is a\n",
    "        # \"completion clause\" that runs\n",
    "        # only if the loop ran to completion\n",
    "        # without hitting a `break` statement.\n",
    "        raise ValueError('Needle not found')"
   ]
  },
  {
   "cell_type": "code",
   "execution_count": 12,
   "metadata": {},
   "outputs": [],
   "source": [
    "contains([23, 'needle', 0xbadc0ffee], 'needle')"
   ]
  },
  {
   "cell_type": "code",
   "execution_count": 13,
   "metadata": {},
   "outputs": [
    {
     "ename": "ValueError",
     "evalue": "Needle not found",
     "traceback": [
      "\u001b[1;31m---------------------------------------------------------------------------\u001b[0m",
      "\u001b[1;31mValueError\u001b[0m                                Traceback (most recent call last)",
      "\u001b[1;32m<ipython-input-13-3e4f2ee1024e>\u001b[0m in \u001b[0;36m<module>\u001b[1;34m\u001b[0m\n\u001b[1;32m----> 1\u001b[1;33m \u001b[0mcontains\u001b[0m\u001b[1;33m(\u001b[0m\u001b[1;33m[\u001b[0m\u001b[1;36m23\u001b[0m\u001b[1;33m,\u001b[0m \u001b[1;36m42\u001b[0m\u001b[1;33m,\u001b[0m \u001b[1;36m0xbadc0ffee\u001b[0m\u001b[1;33m]\u001b[0m\u001b[1;33m,\u001b[0m \u001b[1;34m'needle'\u001b[0m\u001b[1;33m)\u001b[0m\u001b[1;33m\u001b[0m\u001b[0m\n\u001b[0m",
      "\u001b[1;32m<ipython-input-11-f65d6f354c54>\u001b[0m in \u001b[0;36mcontains\u001b[1;34m(haystack, needle)\u001b[0m\n\u001b[0;32m     17\u001b[0m         \u001b[1;31m# only if the loop ran to completion\u001b[0m\u001b[1;33m\u001b[0m\u001b[1;33m\u001b[0m\u001b[0m\n\u001b[0;32m     18\u001b[0m         \u001b[1;31m# without hitting a `break` statement.\u001b[0m\u001b[1;33m\u001b[0m\u001b[1;33m\u001b[0m\u001b[0m\n\u001b[1;32m---> 19\u001b[1;33m         \u001b[1;32mraise\u001b[0m \u001b[0mValueError\u001b[0m\u001b[1;33m(\u001b[0m\u001b[1;34m'Needle not found'\u001b[0m\u001b[1;33m)\u001b[0m\u001b[1;33m\u001b[0m\u001b[0m\n\u001b[0m",
      "\u001b[1;31mValueError\u001b[0m: Needle not found"
     ],
     "output_type": "error"
    }
   ],
   "source": [
    "contains([23, 42, 0xbadc0ffee], 'needle')"
   ]
  },
  {
   "cell_type": "code",
   "execution_count": 14,
   "metadata": {},
   "outputs": [],
   "source": [
    "# Personally, I'm not a fan of the `else`\n",
    "# \"completion clause\" in loops because\n",
    "# I find it confusing. I'd rather do\n",
    "# something like this:\n",
    "\n",
    "def better_contains(haystack, needle):\n",
    "    for item in haystack:\n",
    "        if item == needle:\n",
    "            break\n",
    "    raise ValueError('Needle not found')"
   ]
  },
  {
   "cell_type": "code",
   "execution_count": 15,
   "metadata": {},
   "outputs": [
    {
     "ename": "ValueError",
     "evalue": "Needle not found",
     "traceback": [
      "\u001b[1;31m---------------------------------------------------------------------------\u001b[0m",
      "\u001b[1;31mValueError\u001b[0m                                Traceback (most recent call last)",
      "\u001b[1;32m<ipython-input-15-c4f2d056a1bd>\u001b[0m in \u001b[0;36m<module>\u001b[1;34m\u001b[0m\n\u001b[1;32m----> 1\u001b[1;33m \u001b[0mbetter_contains\u001b[0m\u001b[1;33m(\u001b[0m\u001b[1;33m[\u001b[0m\u001b[1;36m23\u001b[0m\u001b[1;33m,\u001b[0m \u001b[1;36m42\u001b[0m\u001b[1;33m,\u001b[0m \u001b[1;36m0xbadc0ffee\u001b[0m\u001b[1;33m]\u001b[0m\u001b[1;33m,\u001b[0m \u001b[1;34m'needle'\u001b[0m\u001b[1;33m)\u001b[0m\u001b[1;33m\u001b[0m\u001b[0m\n\u001b[0m",
      "\u001b[1;32m<ipython-input-14-8c3549f25349>\u001b[0m in \u001b[0;36mbetter_contains\u001b[1;34m(haystack, needle)\u001b[0m\n\u001b[0;32m      8\u001b[0m         \u001b[1;32mif\u001b[0m \u001b[0mitem\u001b[0m \u001b[1;33m==\u001b[0m \u001b[0mneedle\u001b[0m\u001b[1;33m:\u001b[0m\u001b[1;33m\u001b[0m\u001b[0m\n\u001b[0;32m      9\u001b[0m             \u001b[1;32mbreak\u001b[0m\u001b[1;33m\u001b[0m\u001b[0m\n\u001b[1;32m---> 10\u001b[1;33m     \u001b[1;32mraise\u001b[0m \u001b[0mValueError\u001b[0m\u001b[1;33m(\u001b[0m\u001b[1;34m'Needle not found'\u001b[0m\u001b[1;33m)\u001b[0m\u001b[1;33m\u001b[0m\u001b[0m\n\u001b[0m",
      "\u001b[1;31mValueError\u001b[0m: Needle not found"
     ],
     "output_type": "error"
    }
   ],
   "source": [
    "better_contains([23, 42, 0xbadc0ffee], 'needle')"
   ]
  },
  {
   "cell_type": "code",
   "execution_count": 16,
   "metadata": {},
   "outputs": [],
   "source": [
    "def even_better_contains(haystack, needle):\n",
    "    for item in haystack:\n",
    "        if item == needle:\n",
    "            break\n",
    "    # Note: Typically you'd write something\n",
    "    # like this to do a membership test,\n",
    "    # which is much more Pythonic:\n",
    "    if needle not in haystack:\n",
    "        raise ValueError('Needle not found')"
   ]
  },
  {
   "cell_type": "code",
   "execution_count": 17,
   "metadata": {},
   "outputs": [
    {
     "ename": "ValueError",
     "evalue": "Needle not found",
     "traceback": [
      "\u001b[1;31m---------------------------------------------------------------------------\u001b[0m",
      "\u001b[1;31mValueError\u001b[0m                                Traceback (most recent call last)",
      "\u001b[1;32m<ipython-input-17-ad01c0b1503f>\u001b[0m in \u001b[0;36m<module>\u001b[1;34m\u001b[0m\n\u001b[1;32m----> 1\u001b[1;33m \u001b[0meven_better_contains\u001b[0m\u001b[1;33m(\u001b[0m\u001b[1;33m[\u001b[0m\u001b[1;36m23\u001b[0m\u001b[1;33m,\u001b[0m \u001b[1;36m42\u001b[0m\u001b[1;33m,\u001b[0m \u001b[1;36m0xbadc0ffee\u001b[0m\u001b[1;33m]\u001b[0m\u001b[1;33m,\u001b[0m \u001b[1;34m'needle'\u001b[0m\u001b[1;33m)\u001b[0m\u001b[1;33m\u001b[0m\u001b[0m\n\u001b[0m",
      "\u001b[1;32m<ipython-input-16-bdaf1736d7d8>\u001b[0m in \u001b[0;36meven_better_contains\u001b[1;34m(haystack, needle)\u001b[0m\n\u001b[0;32m      7\u001b[0m     \u001b[1;31m# which is much more Pythonic:\u001b[0m\u001b[1;33m\u001b[0m\u001b[1;33m\u001b[0m\u001b[0m\n\u001b[0;32m      8\u001b[0m     \u001b[1;32mif\u001b[0m \u001b[0mneedle\u001b[0m \u001b[1;32mnot\u001b[0m \u001b[1;32min\u001b[0m \u001b[0mhaystack\u001b[0m\u001b[1;33m:\u001b[0m\u001b[1;33m\u001b[0m\u001b[0m\n\u001b[1;32m----> 9\u001b[1;33m         \u001b[1;32mraise\u001b[0m \u001b[0mValueError\u001b[0m\u001b[1;33m(\u001b[0m\u001b[1;34m'Needle not found'\u001b[0m\u001b[1;33m)\u001b[0m\u001b[1;33m\u001b[0m\u001b[0m\n\u001b[0m",
      "\u001b[1;31mValueError\u001b[0m: Needle not found"
     ],
     "output_type": "error"
    }
   ],
   "source": [
    "even_better_contains([23, 42, 0xbadc0ffee], 'needle')"
   ]
  },
  {
   "cell_type": "code",
   "execution_count": 18,
   "metadata": {},
   "outputs": [],
   "source": [
    "even_better_contains([23, 'needle', 0xbadc0ffee], 'needle')"
   ]
  },
  {
   "cell_type": "code",
   "execution_count": 1,
   "metadata": {},
   "outputs": [
    {
     "data": {
      "text/plain": [
       "'c:\\\\users\\\\listera\\\\pyprojects\\\\.env'"
      ]
     },
     "execution_count": 1,
     "metadata": {},
     "output_type": "execute_result"
    }
   ],
   "source": [
    "import sys\n",
    "sys.prefix"
   ]
  },
  {
   "cell_type": "code",
   "execution_count": 2,
   "metadata": {},
   "outputs": [
    {
     "data": {
      "text/plain": [
       "['c:\\\\users\\\\listera\\\\pyprojects\\\\.env',\n",
       " 'c:\\\\users\\\\listera\\\\pyprojects\\\\.env\\\\lib\\\\site-packages']"
      ]
     },
     "execution_count": 2,
     "metadata": {},
     "output_type": "execute_result"
    }
   ],
   "source": [
    "import site\n",
    "site.getsitepackages()"
   ]
  },
  {
   "cell_type": "code",
   "execution_count": null,
   "metadata": {},
   "outputs": [],
   "source": []
  }
 ],
 "metadata": {
  "kernelspec": {
   "display_name": "Python 3",
   "language": "python",
   "name": "python3"
  },
  "language_info": {
   "codemirror_mode": {
    "name": "ipython",
    "version": 3
   },
   "file_extension": ".py",
   "mimetype": "text/x-python",
   "name": "python",
   "nbconvert_exporter": "python",
   "pygments_lexer": "ipython3",
   "version": "3.6.2"
  }
 },
 "nbformat": 4,
 "nbformat_minor": 2
}
