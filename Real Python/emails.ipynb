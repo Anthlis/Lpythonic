{
  "cells": [
    {
      "cell_type": "markdown",
      "metadata": {
        "pycharm": {}
      },
      "source": [
        "### Namedtuples"
      ]
    },
    {
      "cell_type": "code",
      "execution_count": 2,
      "metadata": {
        "pycharm": {
          "is_executing": false
        }
      },
      "outputs": [],
      "source": [
        "\n",
        "#Using namedtuple is shorter than defining a class manually:\n",
        "from collections import namedtuple\n",
        "Car \u003d namedtuple(\u0027Car\u0027, \u0027color mileage\u0027)\n",
        "\n",
        "# Another example: Watch out! Second positional argument has no quotes or commas.\n",
        "Animal \u003d namedtuple(\u0027Animal\u0027, \u0027name age type\u0027)\n",
        "perry \u003d Animal(name\u003d\"perry\", age\u003d\u002731\u0027, type\u003d\u0027cat\u0027)"
      ]
    },
    {
      "cell_type": "code",
      "execution_count": 2,
      "metadata": {
        "pycharm": {}
      },
      "outputs": [],
      "source": [
        "my_car \u003d Car(\u0027red\u0027, 3812.4)"
      ]
    },
    {
      "cell_type": "code",
      "execution_count": 3,
      "metadata": {
        "pycharm": {}
      },
      "outputs": [
        {
          "data": {
            "text/plain": [
              "\u0027red\u0027"
            ]
          },
          "execution_count": 3,
          "metadata": {},
          "output_type": "execute_result"
        }
      ],
      "source": [
        "# New \"Car\" class works as expected:\n",
        "my_car.color"
      ]
    },
    {
      "cell_type": "code",
      "execution_count": 4,
      "metadata": {
        "pycharm": {}
      },
      "outputs": [
        {
          "data": {
            "text/plain": [
              "3812.4"
            ]
          },
          "execution_count": 4,
          "metadata": {},
          "output_type": "execute_result"
        }
      ],
      "source": [
        "my_car.mileage"
      ]
    },
    {
      "cell_type": "code",
      "execution_count": 5,
      "metadata": {
        "pycharm": {}
      },
      "outputs": [
        {
          "ename": "AttributeError",
          "evalue": "\u0027Car\u0027 object has no attribute \u0027doors\u0027",
          "traceback": [
            "\u001b[0;31m---------------------------------------------------------------------------\u001b[0m",
            "\u001b[0;31mAttributeError\u001b[0m                            Traceback (most recent call last)",
            "\u001b[0;32m\u003cipython-input-5-64e118e1f084\u003e\u001b[0m in \u001b[0;36m\u003cmodule\u003e\u001b[0;34m()\u001b[0m\n\u001b[0;32m----\u003e 1\u001b[0;31m \u001b[0mmy_car\u001b[0m\u001b[0;34m.\u001b[0m\u001b[0mdoors\u001b[0m\u001b[0;34m\u001b[0m\u001b[0m\n\u001b[0m",
            "\u001b[0;31mAttributeError\u001b[0m: \u0027Car\u0027 object has no attribute \u0027doors\u0027"
          ],
          "output_type": "error"
        }
      ],
      "source": [
        "my_car.doors"
      ]
    },
    {
      "cell_type": "code",
      "execution_count": 6,
      "metadata": {
        "pycharm": {}
      },
      "outputs": [
        {
          "data": {
            "text/plain": [
              "Car(color\u003d\u0027red\u0027, mileage\u003d3812.4)"
            ]
          },
          "execution_count": 6,
          "metadata": {},
          "output_type": "execute_result"
        }
      ],
      "source": [
        "# Get a nice string repr for free:\n",
        "my_car"
      ]
    },
    {
      "cell_type": "code",
      "execution_count": 7,
      "metadata": {
        "pycharm": {}
      },
      "outputs": [
        {
          "ename": "AttributeError",
          "evalue": "can\u0027t set attribute",
          "traceback": [
            "\u001b[0;31m---------------------------------------------------------------------------\u001b[0m",
            "\u001b[0;31mAttributeError\u001b[0m                            Traceback (most recent call last)",
            "\u001b[0;32m\u003cipython-input-7-23a0138952f3\u003e\u001b[0m in \u001b[0;36m\u003cmodule\u003e\u001b[0;34m()\u001b[0m\n\u001b[1;32m      1\u001b[0m \u001b[0;31m# Like tuples, namedtuples are immutable:\u001b[0m\u001b[0;34m\u001b[0m\u001b[0;34m\u001b[0m\u001b[0m\n\u001b[0;32m----\u003e 2\u001b[0;31m \u001b[0mmy_car\u001b[0m\u001b[0;34m.\u001b[0m\u001b[0mcolor\u001b[0m \u001b[0;34m\u003d\u001b[0m \u001b[0;34m\u0027blue\u0027\u001b[0m\u001b[0;34m\u001b[0m\u001b[0m\n\u001b[0m",
            "\u001b[0;31mAttributeError\u001b[0m: can\u0027t set attribute"
          ],
          "output_type": "error"
        }
      ],
      "source": [
        "# Like tuples, namedtuples are immutable:\n",
        "my_car.color \u003d \u0027blue\u0027"
      ]
    },
    {
      "cell_type": "code",
      "execution_count": 8,
      "metadata": {
        "pycharm": {}
      },
      "outputs": [
        {
          "data": {
            "text/plain": [
              "\u0027perry\u0027"
            ]
          },
          "execution_count": 8,
          "metadata": {},
          "output_type": "execute_result"
        }
      ],
      "source": [
        "perry.name"
      ]
    },
    {
      "cell_type": "code",
      "execution_count": 9,
      "metadata": {
        "pycharm": {}
      },
      "outputs": [
        {
          "data": {
            "text/plain": [
              "\u002731\u0027"
            ]
          },
          "execution_count": 9,
          "metadata": {},
          "output_type": "execute_result"
        }
      ],
      "source": [
        "perry.age"
      ]
    },
    {
      "cell_type": "code",
      "execution_count": 10,
      "metadata": {
        "pycharm": {}
      },
      "outputs": [
        {
          "data": {
            "text/plain": [
              "\u0027cat\u0027"
            ]
          },
          "execution_count": 10,
          "metadata": {},
          "output_type": "execute_result"
        }
      ],
      "source": [
        "perry.type"
      ]
    },
    {
      "cell_type": "code",
      "execution_count": 11,
      "metadata": {
        "pycharm": {}
      },
      "outputs": [
        {
          "name": "stdout",
          "output_type": "stream",
          "text": [
            "perry\n"
          ]
        }
      ],
      "source": [
        "print(perry[0])"
      ]
    },
    {
      "cell_type": "markdown",
      "metadata": {
        "pycharm": {}
      },
      "source": [
        "### The get() method on dictionaries"
      ]
    },
    {
      "cell_type": "code",
      "execution_count": 12,
      "metadata": {
        "pycharm": {}
      },
      "outputs": [],
      "source": [
        "name_for_userid \u003d {\n",
        "    382: \"Alice\",\n",
        "    590: \"Bob\",\n",
        "    951: \"Dilbert\",\n",
        "}"
      ]
    },
    {
      "cell_type": "code",
      "execution_count": 16,
      "metadata": {
        "pycharm": {}
      },
      "outputs": [],
      "source": [
        "def greeting(userid):\n",
        "    return \"Hi %s!\" % name_for_userid.get(userid, \"there\")"
      ]
    },
    {
      "cell_type": "code",
      "execution_count": 17,
      "metadata": {
        "pycharm": {}
      },
      "outputs": [
        {
          "data": {
            "text/plain": [
              "\u0027Hi Alice!\u0027"
            ]
          },
          "execution_count": 17,
          "metadata": {},
          "output_type": "execute_result"
        }
      ],
      "source": [
        "greeting(382)"
      ]
    },
    {
      "cell_type": "code",
      "execution_count": 18,
      "metadata": {
        "pycharm": {}
      },
      "outputs": [
        {
          "data": {
            "text/plain": [
              "\u0027Hi there!\u0027"
            ]
          },
          "execution_count": 18,
          "metadata": {},
          "output_type": "execute_result"
        }
      ],
      "source": [
        "greeting(333333)"
      ]
    },
    {
      "cell_type": "markdown",
      "metadata": {
        "pycharm": {}
      },
      "source": [
        "### When to use __repr__ vs __str__"
      ]
    },
    {
      "cell_type": "code",
      "execution_count": 21,
      "metadata": {
        "pycharm": {}
      },
      "outputs": [],
      "source": [
        "import datetime\n",
        "today \u003d datetime.date.today()"
      ]
    },
    {
      "cell_type": "code",
      "execution_count": 22,
      "metadata": {
        "pycharm": {}
      },
      "outputs": [
        {
          "data": {
            "text/plain": [
              "\u00272018-10-17\u0027"
            ]
          },
          "execution_count": 22,
          "metadata": {},
          "output_type": "execute_result"
        }
      ],
      "source": [
        "# result of __Str__ should be readable:\n",
        "str(today)"
      ]
    },
    {
      "cell_type": "code",
      "execution_count": 23,
      "metadata": {
        "pycharm": {}
      },
      "outputs": [
        {
          "data": {
            "text/plain": [
              "\u0027datetime.date(2018, 10, 17)\u0027"
            ]
          },
          "execution_count": 23,
          "metadata": {},
          "output_type": "execute_result"
        }
      ],
      "source": [
        "# result of __repr__ should be unambiguous:\n",
        "repr(today)"
      ]
    },
    {
      "cell_type": "code",
      "execution_count": 24,
      "metadata": {
        "pycharm": {}
      },
      "outputs": [
        {
          "data": {
            "text/plain": [
              "datetime.date(2018, 10, 17)"
            ]
          },
          "execution_count": 24,
          "metadata": {},
          "output_type": "execute_result"
        }
      ],
      "source": [
        "# Python interpreter sessions are \n",
        "# __repr__ to inspect objects:\n",
        "today"
      ]
    },
    {
      "cell_type": "code",
      "execution_count": 26,
      "metadata": {
        "pycharm": {}
      },
      "outputs": [
        {
          "data": {
            "text/plain": [
              "{\u0027__name__\u0027: \u0027__main__\u0027,\n",
              " \u0027__doc__\u0027: \u0027Automatically created module for IPython interactive environment\u0027,\n",
              " \u0027__package__\u0027: None,\n",
              " \u0027__loader__\u0027: None,\n",
              " \u0027__spec__\u0027: None,\n",
              " \u0027__builtin__\u0027: \u003cmodule \u0027builtins\u0027 (built-in)\u003e,\n",
              " \u0027__builtins__\u0027: \u003cmodule \u0027builtins\u0027 (built-in)\u003e,\n",
              " \u0027_ih\u0027: [\u0027\u0027,\n",
              "  \"from collections import namedtuple\\nCar \u003d namedtuple(\u0027Car\u0027, \u0027color mileage\u0027)\",\n",
              "  \"my_car \u003d Car(\u0027red\u0027, 3812.4)\",\n",
              "  \u0027my_car.color\u0027,\n",
              "  \u0027my_car.mileage\u0027,\n",
              "  \u0027my_car\u0027,\n",
              "  \"my_car.color \u003d \u0027blue\u0027\",\n",
              "  \u0027name_for_userid \u003d {\\n    382: \"Alice\",\\n    590: \"Bob\",\\n    951: \"Dilbert\",\\n}\u0027,\n",
              "  \u0027def greeting(userid):\\n    return \"Hi %s!\" % name_for_userid.get(userid, \"there\")\u0027,\n",
              "  \u0027greeting(382)\u0027,\n",
              "  \u0027greeting(333333)\u0027,\n",
              "  \u0027my_car.doors\u0027,\n",
              "  \"my_car \u003d Car(\u0027red\u0027, 3812.4)\",\n",
              "  \u0027# New \"Car\" class works as expected:\\nmy_car.color\u0027,\n",
              "  \u0027my_car.mileage\u0027,\n",
              "  \u0027my_car.doors\u0027,\n",
              "  \u0027# Get a nice string repr for free:\\nmy_car\u0027,\n",
              "  \"\\n#Using namedtuple is shorter than defining a class manually:\\nfrom collections import namedtuple\\nCar \u003d namedtuple(\u0027Car1\u0027, \u0027color mileage\u0027)\",\n",
              "  \"my_car \u003d Car(\u0027red\u0027, 3812.4)\",\n",
              "  \u0027# New \"Car\" class works as expected:\\nmy_car.colour\u0027,\n",
              "  \u0027# New \"Car\" class works as expected:\\nmy_car.color\u0027,\n",
              "  \u0027import datetime\\ntoday \u003d datetime.date.today()\u0027,\n",
              "  \u0027# result of __Str__ should be readable:\\nstr(today)\u0027,\n",
              "  \u0027# result of __repr__ should be unambiguous:\\nrepr(today)\u0027,\n",
              "  \u0027# Python interpreter sessions are \\n# __repr__ to inspect objects:\\ntoday\u0027,\n",
              "  \u0027today()\u0027,\n",
              "  \u0027globals()\u0027],\n",
              " \u0027_oh\u0027: {3: \u0027red\u0027,\n",
              "  4: 3812.4,\n",
              "  5: Car(color\u003d\u0027red\u0027, mileage\u003d3812.4),\n",
              "  9: \u0027Hi Alice!\u0027,\n",
              "  10: \u0027Hi there!\u0027,\n",
              "  13: \u0027red\u0027,\n",
              "  14: 3812.4,\n",
              "  16: Car(color\u003d\u0027red\u0027, mileage\u003d3812.4),\n",
              "  20: \u0027red\u0027,\n",
              "  22: \u00272018-10-17\u0027,\n",
              "  23: \u0027datetime.date(2018, 10, 17)\u0027,\n",
              "  24: datetime.date(2018, 10, 17)},\n",
              " \u0027_dh\u0027: [\u0027c:\\\\Users\\\\ListerA\\\\AppData\\\\Local\\\\Programs\\\\Python\\\\Python36-32\\\\Scripts\u0027],\n",
              " \u0027In\u0027: [\u0027\u0027,\n",
              "  \"from collections import namedtuple\\nCar \u003d namedtuple(\u0027Car\u0027, \u0027color mileage\u0027)\",\n",
              "  \"my_car \u003d Car(\u0027red\u0027, 3812.4)\",\n",
              "  \u0027my_car.color\u0027,\n",
              "  \u0027my_car.mileage\u0027,\n",
              "  \u0027my_car\u0027,\n",
              "  \"my_car.color \u003d \u0027blue\u0027\",\n",
              "  \u0027name_for_userid \u003d {\\n    382: \"Alice\",\\n    590: \"Bob\",\\n    951: \"Dilbert\",\\n}\u0027,\n",
              "  \u0027def greeting(userid):\\n    return \"Hi %s!\" % name_for_userid.get(userid, \"there\")\u0027,\n",
              "  \u0027greeting(382)\u0027,\n",
              "  \u0027greeting(333333)\u0027,\n",
              "  \u0027my_car.doors\u0027,\n",
              "  \"my_car \u003d Car(\u0027red\u0027, 3812.4)\",\n",
              "  \u0027# New \"Car\" class works as expected:\\nmy_car.color\u0027,\n",
              "  \u0027my_car.mileage\u0027,\n",
              "  \u0027my_car.doors\u0027,\n",
              "  \u0027# Get a nice string repr for free:\\nmy_car\u0027,\n",
              "  \"\\n#Using namedtuple is shorter than defining a class manually:\\nfrom collections import namedtuple\\nCar \u003d namedtuple(\u0027Car1\u0027, \u0027color mileage\u0027)\",\n",
              "  \"my_car \u003d Car(\u0027red\u0027, 3812.4)\",\n",
              "  \u0027# New \"Car\" class works as expected:\\nmy_car.colour\u0027,\n",
              "  \u0027# New \"Car\" class works as expected:\\nmy_car.color\u0027,\n",
              "  \u0027import datetime\\ntoday \u003d datetime.date.today()\u0027,\n",
              "  \u0027# result of __Str__ should be readable:\\nstr(today)\u0027,\n",
              "  \u0027# result of __repr__ should be unambiguous:\\nrepr(today)\u0027,\n",
              "  \u0027# Python interpreter sessions are \\n# __repr__ to inspect objects:\\ntoday\u0027,\n",
              "  \u0027today()\u0027,\n",
              "  \u0027globals()\u0027],\n",
              " \u0027Out\u0027: {3: \u0027red\u0027,\n",
              "  4: 3812.4,\n",
              "  5: Car(color\u003d\u0027red\u0027, mileage\u003d3812.4),\n",
              "  9: \u0027Hi Alice!\u0027,\n",
              "  10: \u0027Hi there!\u0027,\n",
              "  13: \u0027red\u0027,\n",
              "  14: 3812.4,\n",
              "  16: Car(color\u003d\u0027red\u0027, mileage\u003d3812.4),\n",
              "  20: \u0027red\u0027,\n",
              "  22: \u00272018-10-17\u0027,\n",
              "  23: \u0027datetime.date(2018, 10, 17)\u0027,\n",
              "  24: datetime.date(2018, 10, 17)},\n",
              " \u0027get_ipython\u0027: \u003cbound method InteractiveShell.get_ipython of \u003cipykernel.zmqshell.ZMQInteractiveShell object at 0x029EE390\u003e\u003e,\n",
              " \u0027exit\u0027: \u003cIPython.core.autocall.ZMQExitAutocall at 0x4150fb0\u003e,\n",
              " \u0027quit\u0027: \u003cIPython.core.autocall.ZMQExitAutocall at 0x4150fb0\u003e,\n",
              " \u0027_\u0027: datetime.date(2018, 10, 17),\n",
              " \u0027__\u0027: \u0027datetime.date(2018, 10, 17)\u0027,\n",
              " \u0027___\u0027: \u00272018-10-17\u0027,\n",
              " \u0027_i\u0027: \u0027today()\u0027,\n",
              " \u0027_ii\u0027: \u0027# Python interpreter sessions are \\n# __repr__ to inspect objects:\\ntoday\u0027,\n",
              " \u0027_iii\u0027: \u0027# result of __repr__ should be unambiguous:\\nrepr(today)\u0027,\n",
              " \u0027_i1\u0027: \"from collections import namedtuple\\nCar \u003d namedtuple(\u0027Car\u0027, \u0027color mileage\u0027)\",\n",
              " \u0027namedtuple\u0027: \u003cfunction collections.namedtuple(typename, field_names, *, verbose\u003dFalse, rename\u003dFalse, module\u003dNone)\u003e,\n",
              " \u0027Car\u0027: __main__.Car1,\n",
              " \u0027_i2\u0027: \"my_car \u003d Car(\u0027red\u0027, 3812.4)\",\n",
              " \u0027my_car\u0027: Car1(color\u003d\u0027red\u0027, mileage\u003d3812.4),\n",
              " \u0027_i3\u0027: \u0027my_car.color\u0027,\n",
              " \u0027_3\u0027: \u0027red\u0027,\n",
              " \u0027_i4\u0027: \u0027my_car.mileage\u0027,\n",
              " \u0027_4\u0027: 3812.4,\n",
              " \u0027_i5\u0027: \u0027my_car\u0027,\n",
              " \u0027_5\u0027: Car(color\u003d\u0027red\u0027, mileage\u003d3812.4),\n",
              " \u0027_i6\u0027: \"my_car.color \u003d \u0027blue\u0027\",\n",
              " \u0027_i7\u0027: \u0027name_for_userid \u003d {\\n    382: \"Alice\",\\n    590: \"Bob\",\\n    951: \"Dilbert\",\\n}\u0027,\n",
              " \u0027name_for_userid\u0027: {382: \u0027Alice\u0027, 590: \u0027Bob\u0027, 951: \u0027Dilbert\u0027},\n",
              " \u0027_i8\u0027: \u0027def greeting(userid):\\n    return \"Hi %s!\" % name_for_userid.get(userid, \"there\")\u0027,\n",
              " \u0027greeting\u0027: \u003cfunction __main__.greeting(userid)\u003e,\n",
              " \u0027_i9\u0027: \u0027greeting(382)\u0027,\n",
              " \u0027_9\u0027: \u0027Hi Alice!\u0027,\n",
              " \u0027_i10\u0027: \u0027greeting(333333)\u0027,\n",
              " \u0027_10\u0027: \u0027Hi there!\u0027,\n",
              " \u0027_i11\u0027: \u0027my_car.doors\u0027,\n",
              " \u0027_i12\u0027: \"my_car \u003d Car(\u0027red\u0027, 3812.4)\",\n",
              " \u0027_i13\u0027: \u0027# New \"Car\" class works as expected:\\nmy_car.color\u0027,\n",
              " \u0027_13\u0027: \u0027red\u0027,\n",
              " \u0027_i14\u0027: \u0027my_car.mileage\u0027,\n",
              " \u0027_14\u0027: 3812.4,\n",
              " \u0027_i15\u0027: \u0027my_car.doors\u0027,\n",
              " \u0027_i16\u0027: \u0027# Get a nice string repr for free:\\nmy_car\u0027,\n",
              " \u0027_16\u0027: Car(color\u003d\u0027red\u0027, mileage\u003d3812.4),\n",
              " \u0027_i17\u0027: \"\\n#Using namedtuple is shorter than defining a class manually:\\nfrom collections import namedtuple\\nCar \u003d namedtuple(\u0027Car1\u0027, \u0027color mileage\u0027)\",\n",
              " \u0027_i18\u0027: \"my_car \u003d Car(\u0027red\u0027, 3812.4)\",\n",
              " \u0027_i19\u0027: \u0027# New \"Car\" class works as expected:\\nmy_car.colour\u0027,\n",
              " \u0027_i20\u0027: \u0027# New \"Car\" class works as expected:\\nmy_car.color\u0027,\n",
              " \u0027_20\u0027: \u0027red\u0027,\n",
              " \u0027_i21\u0027: \u0027import datetime\\ntoday \u003d datetime.date.today()\u0027,\n",
              " \u0027datetime\u0027: \u003cmodule \u0027datetime\u0027 from \u0027c:\\\\users\\\\listera\\\\appdata\\\\local\\\\programs\\\\python\\\\python36-32\\\\lib\\\\datetime.py\u0027\u003e,\n",
              " \u0027today\u0027: datetime.date(2018, 10, 17),\n",
              " \u0027_i22\u0027: \u0027# result of __Str__ should be readable:\\nstr(today)\u0027,\n",
              " \u0027_22\u0027: \u00272018-10-17\u0027,\n",
              " \u0027_i23\u0027: \u0027# result of __repr__ should be unambiguous:\\nrepr(today)\u0027,\n",
              " \u0027_23\u0027: \u0027datetime.date(2018, 10, 17)\u0027,\n",
              " \u0027_i24\u0027: \u0027# Python interpreter sessions are \\n# __repr__ to inspect objects:\\ntoday\u0027,\n",
              " \u0027_24\u0027: datetime.date(2018, 10, 17),\n",
              " \u0027_i25\u0027: \u0027today()\u0027,\n",
              " \u0027_i26\u0027: \u0027globals()\u0027}"
            ]
          },
          "execution_count": 26,
          "metadata": {},
          "output_type": "execute_result"
        }
      ],
      "source": [
        "globals()"
      ]
    },
    {
      "cell_type": "code",
      "execution_count": 27,
      "metadata": {
        "pycharm": {}
      },
      "outputs": [
        {
          "data": {
            "text/plain": [
              "{\u0027__name__\u0027: \u0027__main__\u0027,\n",
              " \u0027__doc__\u0027: \u0027Automatically created module for IPython interactive environment\u0027,\n",
              " \u0027__package__\u0027: None,\n",
              " \u0027__loader__\u0027: None,\n",
              " \u0027__spec__\u0027: None,\n",
              " \u0027__builtin__\u0027: \u003cmodule \u0027builtins\u0027 (built-in)\u003e,\n",
              " \u0027__builtins__\u0027: \u003cmodule \u0027builtins\u0027 (built-in)\u003e,\n",
              " \u0027_ih\u0027: [\u0027\u0027,\n",
              "  \"from collections import namedtuple\\nCar \u003d namedtuple(\u0027Car\u0027, \u0027color mileage\u0027)\",\n",
              "  \"my_car \u003d Car(\u0027red\u0027, 3812.4)\",\n",
              "  \u0027my_car.color\u0027,\n",
              "  \u0027my_car.mileage\u0027,\n",
              "  \u0027my_car\u0027,\n",
              "  \"my_car.color \u003d \u0027blue\u0027\",\n",
              "  \u0027name_for_userid \u003d {\\n    382: \"Alice\",\\n    590: \"Bob\",\\n    951: \"Dilbert\",\\n}\u0027,\n",
              "  \u0027def greeting(userid):\\n    return \"Hi %s!\" % name_for_userid.get(userid, \"there\")\u0027,\n",
              "  \u0027greeting(382)\u0027,\n",
              "  \u0027greeting(333333)\u0027,\n",
              "  \u0027my_car.doors\u0027,\n",
              "  \"my_car \u003d Car(\u0027red\u0027, 3812.4)\",\n",
              "  \u0027# New \"Car\" class works as expected:\\nmy_car.color\u0027,\n",
              "  \u0027my_car.mileage\u0027,\n",
              "  \u0027my_car.doors\u0027,\n",
              "  \u0027# Get a nice string repr for free:\\nmy_car\u0027,\n",
              "  \"\\n#Using namedtuple is shorter than defining a class manually:\\nfrom collections import namedtuple\\nCar \u003d namedtuple(\u0027Car1\u0027, \u0027color mileage\u0027)\",\n",
              "  \"my_car \u003d Car(\u0027red\u0027, 3812.4)\",\n",
              "  \u0027# New \"Car\" class works as expected:\\nmy_car.colour\u0027,\n",
              "  \u0027# New \"Car\" class works as expected:\\nmy_car.color\u0027,\n",
              "  \u0027import datetime\\ntoday \u003d datetime.date.today()\u0027,\n",
              "  \u0027# result of __Str__ should be readable:\\nstr(today)\u0027,\n",
              "  \u0027# result of __repr__ should be unambiguous:\\nrepr(today)\u0027,\n",
              "  \u0027# Python interpreter sessions are \\n# __repr__ to inspect objects:\\ntoday\u0027,\n",
              "  \u0027today()\u0027,\n",
              "  \u0027globals()\u0027,\n",
              "  \u0027locals()\u0027],\n",
              " \u0027_oh\u0027: {3: \u0027red\u0027,\n",
              "  4: 3812.4,\n",
              "  5: Car(color\u003d\u0027red\u0027, mileage\u003d3812.4),\n",
              "  9: \u0027Hi Alice!\u0027,\n",
              "  10: \u0027Hi there!\u0027,\n",
              "  13: \u0027red\u0027,\n",
              "  14: 3812.4,\n",
              "  16: Car(color\u003d\u0027red\u0027, mileage\u003d3812.4),\n",
              "  20: \u0027red\u0027,\n",
              "  22: \u00272018-10-17\u0027,\n",
              "  23: \u0027datetime.date(2018, 10, 17)\u0027,\n",
              "  24: datetime.date(2018, 10, 17),\n",
              "  26: {...}},\n",
              " \u0027_dh\u0027: [\u0027c:\\\\Users\\\\ListerA\\\\AppData\\\\Local\\\\Programs\\\\Python\\\\Python36-32\\\\Scripts\u0027],\n",
              " \u0027In\u0027: [\u0027\u0027,\n",
              "  \"from collections import namedtuple\\nCar \u003d namedtuple(\u0027Car\u0027, \u0027color mileage\u0027)\",\n",
              "  \"my_car \u003d Car(\u0027red\u0027, 3812.4)\",\n",
              "  \u0027my_car.color\u0027,\n",
              "  \u0027my_car.mileage\u0027,\n",
              "  \u0027my_car\u0027,\n",
              "  \"my_car.color \u003d \u0027blue\u0027\",\n",
              "  \u0027name_for_userid \u003d {\\n    382: \"Alice\",\\n    590: \"Bob\",\\n    951: \"Dilbert\",\\n}\u0027,\n",
              "  \u0027def greeting(userid):\\n    return \"Hi %s!\" % name_for_userid.get(userid, \"there\")\u0027,\n",
              "  \u0027greeting(382)\u0027,\n",
              "  \u0027greeting(333333)\u0027,\n",
              "  \u0027my_car.doors\u0027,\n",
              "  \"my_car \u003d Car(\u0027red\u0027, 3812.4)\",\n",
              "  \u0027# New \"Car\" class works as expected:\\nmy_car.color\u0027,\n",
              "  \u0027my_car.mileage\u0027,\n",
              "  \u0027my_car.doors\u0027,\n",
              "  \u0027# Get a nice string repr for free:\\nmy_car\u0027,\n",
              "  \"\\n#Using namedtuple is shorter than defining a class manually:\\nfrom collections import namedtuple\\nCar \u003d namedtuple(\u0027Car1\u0027, \u0027color mileage\u0027)\",\n",
              "  \"my_car \u003d Car(\u0027red\u0027, 3812.4)\",\n",
              "  \u0027# New \"Car\" class works as expected:\\nmy_car.colour\u0027,\n",
              "  \u0027# New \"Car\" class works as expected:\\nmy_car.color\u0027,\n",
              "  \u0027import datetime\\ntoday \u003d datetime.date.today()\u0027,\n",
              "  \u0027# result of __Str__ should be readable:\\nstr(today)\u0027,\n",
              "  \u0027# result of __repr__ should be unambiguous:\\nrepr(today)\u0027,\n",
              "  \u0027# Python interpreter sessions are \\n# __repr__ to inspect objects:\\ntoday\u0027,\n",
              "  \u0027today()\u0027,\n",
              "  \u0027globals()\u0027,\n",
              "  \u0027locals()\u0027],\n",
              " \u0027Out\u0027: {3: \u0027red\u0027,\n",
              "  4: 3812.4,\n",
              "  5: Car(color\u003d\u0027red\u0027, mileage\u003d3812.4),\n",
              "  9: \u0027Hi Alice!\u0027,\n",
              "  10: \u0027Hi there!\u0027,\n",
              "  13: \u0027red\u0027,\n",
              "  14: 3812.4,\n",
              "  16: Car(color\u003d\u0027red\u0027, mileage\u003d3812.4),\n",
              "  20: \u0027red\u0027,\n",
              "  22: \u00272018-10-17\u0027,\n",
              "  23: \u0027datetime.date(2018, 10, 17)\u0027,\n",
              "  24: datetime.date(2018, 10, 17),\n",
              "  26: {...}},\n",
              " \u0027get_ipython\u0027: \u003cbound method InteractiveShell.get_ipython of \u003cipykernel.zmqshell.ZMQInteractiveShell object at 0x029EE390\u003e\u003e,\n",
              " \u0027exit\u0027: \u003cIPython.core.autocall.ZMQExitAutocall at 0x4150fb0\u003e,\n",
              " \u0027quit\u0027: \u003cIPython.core.autocall.ZMQExitAutocall at 0x4150fb0\u003e,\n",
              " \u0027_\u0027: {...},\n",
              " \u0027__\u0027: datetime.date(2018, 10, 17),\n",
              " \u0027___\u0027: \u0027datetime.date(2018, 10, 17)\u0027,\n",
              " \u0027_i\u0027: \u0027globals()\u0027,\n",
              " \u0027_ii\u0027: \u0027today()\u0027,\n",
              " \u0027_iii\u0027: \u0027# Python interpreter sessions are \\n# __repr__ to inspect objects:\\ntoday\u0027,\n",
              " \u0027_i1\u0027: \"from collections import namedtuple\\nCar \u003d namedtuple(\u0027Car\u0027, \u0027color mileage\u0027)\",\n",
              " \u0027namedtuple\u0027: \u003cfunction collections.namedtuple(typename, field_names, *, verbose\u003dFalse, rename\u003dFalse, module\u003dNone)\u003e,\n",
              " \u0027Car\u0027: __main__.Car1,\n",
              " \u0027_i2\u0027: \"my_car \u003d Car(\u0027red\u0027, 3812.4)\",\n",
              " \u0027my_car\u0027: Car1(color\u003d\u0027red\u0027, mileage\u003d3812.4),\n",
              " \u0027_i3\u0027: \u0027my_car.color\u0027,\n",
              " \u0027_3\u0027: \u0027red\u0027,\n",
              " \u0027_i4\u0027: \u0027my_car.mileage\u0027,\n",
              " \u0027_4\u0027: 3812.4,\n",
              " \u0027_i5\u0027: \u0027my_car\u0027,\n",
              " \u0027_5\u0027: Car(color\u003d\u0027red\u0027, mileage\u003d3812.4),\n",
              " \u0027_i6\u0027: \"my_car.color \u003d \u0027blue\u0027\",\n",
              " \u0027_i7\u0027: \u0027name_for_userid \u003d {\\n    382: \"Alice\",\\n    590: \"Bob\",\\n    951: \"Dilbert\",\\n}\u0027,\n",
              " \u0027name_for_userid\u0027: {382: \u0027Alice\u0027, 590: \u0027Bob\u0027, 951: \u0027Dilbert\u0027},\n",
              " \u0027_i8\u0027: \u0027def greeting(userid):\\n    return \"Hi %s!\" % name_for_userid.get(userid, \"there\")\u0027,\n",
              " \u0027greeting\u0027: \u003cfunction __main__.greeting(userid)\u003e,\n",
              " \u0027_i9\u0027: \u0027greeting(382)\u0027,\n",
              " \u0027_9\u0027: \u0027Hi Alice!\u0027,\n",
              " \u0027_i10\u0027: \u0027greeting(333333)\u0027,\n",
              " \u0027_10\u0027: \u0027Hi there!\u0027,\n",
              " \u0027_i11\u0027: \u0027my_car.doors\u0027,\n",
              " \u0027_i12\u0027: \"my_car \u003d Car(\u0027red\u0027, 3812.4)\",\n",
              " \u0027_i13\u0027: \u0027# New \"Car\" class works as expected:\\nmy_car.color\u0027,\n",
              " \u0027_13\u0027: \u0027red\u0027,\n",
              " \u0027_i14\u0027: \u0027my_car.mileage\u0027,\n",
              " \u0027_14\u0027: 3812.4,\n",
              " \u0027_i15\u0027: \u0027my_car.doors\u0027,\n",
              " \u0027_i16\u0027: \u0027# Get a nice string repr for free:\\nmy_car\u0027,\n",
              " \u0027_16\u0027: Car(color\u003d\u0027red\u0027, mileage\u003d3812.4),\n",
              " \u0027_i17\u0027: \"\\n#Using namedtuple is shorter than defining a class manually:\\nfrom collections import namedtuple\\nCar \u003d namedtuple(\u0027Car1\u0027, \u0027color mileage\u0027)\",\n",
              " \u0027_i18\u0027: \"my_car \u003d Car(\u0027red\u0027, 3812.4)\",\n",
              " \u0027_i19\u0027: \u0027# New \"Car\" class works as expected:\\nmy_car.colour\u0027,\n",
              " \u0027_i20\u0027: \u0027# New \"Car\" class works as expected:\\nmy_car.color\u0027,\n",
              " \u0027_20\u0027: \u0027red\u0027,\n",
              " \u0027_i21\u0027: \u0027import datetime\\ntoday \u003d datetime.date.today()\u0027,\n",
              " \u0027datetime\u0027: \u003cmodule \u0027datetime\u0027 from \u0027c:\\\\users\\\\listera\\\\appdata\\\\local\\\\programs\\\\python\\\\python36-32\\\\lib\\\\datetime.py\u0027\u003e,\n",
              " \u0027today\u0027: datetime.date(2018, 10, 17),\n",
              " \u0027_i22\u0027: \u0027# result of __Str__ should be readable:\\nstr(today)\u0027,\n",
              " \u0027_22\u0027: \u00272018-10-17\u0027,\n",
              " \u0027_i23\u0027: \u0027# result of __repr__ should be unambiguous:\\nrepr(today)\u0027,\n",
              " \u0027_23\u0027: \u0027datetime.date(2018, 10, 17)\u0027,\n",
              " \u0027_i24\u0027: \u0027# Python interpreter sessions are \\n# __repr__ to inspect objects:\\ntoday\u0027,\n",
              " \u0027_24\u0027: datetime.date(2018, 10, 17),\n",
              " \u0027_i25\u0027: \u0027today()\u0027,\n",
              " \u0027_i26\u0027: \u0027globals()\u0027,\n",
              " \u0027_26\u0027: {...},\n",
              " \u0027_i27\u0027: \u0027locals()\u0027}"
            ]
          },
          "execution_count": 27,
          "metadata": {},
          "output_type": "execute_result"
        }
      ],
      "source": [
        "locals()"
      ]
    },
    {
      "cell_type": "markdown",
      "metadata": {
        "pycharm": {}
      },
      "source": [
        "### appending to a dict"
      ]
    },
    {
      "cell_type": "code",
      "execution_count": 3,
      "metadata": {
        "pycharm": {}
      },
      "outputs": [
        {
          "name": "stdout",
          "output_type": "stream",
          "text": [
            "{\u0027key\u0027: \u0027value\u0027}\n"
          ]
        }
      ],
      "source": [
        "### appending to a dict\n",
        "d \u003d {\u0027key\u0027:\u0027value\u0027}\n",
        "print(d)"
      ]
    },
    {
      "cell_type": "code",
      "execution_count": 2,
      "metadata": {
        "pycharm": {}
      },
      "outputs": [
        {
          "name": "stdout",
          "output_type": "stream",
          "text": [
            "{\u0027key\u0027: \u0027value\u0027, \u0027mynewkey\u0027: \u0027mynewvalue\u0027}\n"
          ]
        }
      ],
      "source": [
        "d[\u0027mynewkey\u0027] \u003d \u0027mynewvalue\u0027\n",
        "print(d)"
      ]
    },
    {
      "cell_type": "markdown",
      "metadata": {
        "pycharm": {}
      },
      "source": [
        "### pprinting nicely"
      ]
    },
    {
      "cell_type": "code",
      "execution_count": 4,
      "metadata": {
        "pycharm": {}
      },
      "outputs": [],
      "source": [
        "from pprint import pprint\n",
        "my_dict \u003d {\u0027name\u0027: \u0027Anthony\u0027, \u0027age\u0027: 43, \u0027job\u0027: \u0027engineer\u0027}"
      ]
    },
    {
      "cell_type": "code",
      "execution_count": 5,
      "metadata": {
        "pycharm": {}
      },
      "outputs": [
        {
          "data": {
            "text/plain": [
              "{\u0027name\u0027: \u0027Anthony\u0027, \u0027age\u0027: 43, \u0027job\u0027: \u0027engineer\u0027}"
            ]
          },
          "execution_count": 5,
          "metadata": {},
          "output_type": "execute_result"
        }
      ],
      "source": [
        "my_dict"
      ]
    },
    {
      "cell_type": "code",
      "execution_count": 6,
      "metadata": {
        "pycharm": {}
      },
      "outputs": [
        {
          "name": "stdout",
          "output_type": "stream",
          "text": [
            "{\u0027age\u0027: 43, \u0027job\u0027: \u0027engineer\u0027, \u0027name\u0027: \u0027Anthony\u0027}\n"
          ]
        }
      ],
      "source": [
        "pprint(my_dict)"
      ]
    },
    {
      "cell_type": "code",
      "execution_count": 7,
      "metadata": {
        "pycharm": {}
      },
      "outputs": [],
      "source": [
        "my_dict[\u0027hobby\u0027] \u003d \u0027flying\u0027"
      ]
    },
    {
      "cell_type": "code",
      "execution_count": 8,
      "metadata": {
        "pycharm": {}
      },
      "outputs": [
        {
          "name": "stdout",
          "output_type": "stream",
          "text": [
            "{\u0027age\u0027: 43, \u0027hobby\u0027: \u0027flying\u0027, \u0027job\u0027: \u0027engineer\u0027, \u0027name\u0027: \u0027Anthony\u0027}\n"
          ]
        }
      ],
      "source": [
        "pprint(my_dict)"
      ]
    },
    {
      "cell_type": "code",
      "execution_count": 9,
      "metadata": {
        "pycharm": {}
      },
      "outputs": [
        {
          "data": {
            "text/plain": [
              "[\u0027__add__\u0027,\n",
              " \u0027__class__\u0027,\n",
              " \u0027__contains__\u0027,\n",
              " \u0027__delattr__\u0027,\n",
              " \u0027__dir__\u0027,\n",
              " \u0027__doc__\u0027,\n",
              " \u0027__eq__\u0027,\n",
              " \u0027__format__\u0027,\n",
              " \u0027__ge__\u0027,\n",
              " \u0027__getattribute__\u0027,\n",
              " \u0027__getitem__\u0027,\n",
              " \u0027__getnewargs__\u0027,\n",
              " \u0027__gt__\u0027,\n",
              " \u0027__hash__\u0027,\n",
              " \u0027__init__\u0027,\n",
              " \u0027__init_subclass__\u0027,\n",
              " \u0027__iter__\u0027,\n",
              " \u0027__le__\u0027,\n",
              " \u0027__len__\u0027,\n",
              " \u0027__lt__\u0027,\n",
              " \u0027__mod__\u0027,\n",
              " \u0027__mul__\u0027,\n",
              " \u0027__ne__\u0027,\n",
              " \u0027__new__\u0027,\n",
              " \u0027__reduce__\u0027,\n",
              " \u0027__reduce_ex__\u0027,\n",
              " \u0027__repr__\u0027,\n",
              " \u0027__rmod__\u0027,\n",
              " \u0027__rmul__\u0027,\n",
              " \u0027__setattr__\u0027,\n",
              " \u0027__sizeof__\u0027,\n",
              " \u0027__str__\u0027,\n",
              " \u0027__subclasshook__\u0027,\n",
              " \u0027capitalize\u0027,\n",
              " \u0027casefold\u0027,\n",
              " \u0027center\u0027,\n",
              " \u0027count\u0027,\n",
              " \u0027encode\u0027,\n",
              " \u0027endswith\u0027,\n",
              " \u0027expandtabs\u0027,\n",
              " \u0027find\u0027,\n",
              " \u0027format\u0027,\n",
              " \u0027format_map\u0027,\n",
              " \u0027index\u0027,\n",
              " \u0027isalnum\u0027,\n",
              " \u0027isalpha\u0027,\n",
              " \u0027isdecimal\u0027,\n",
              " \u0027isdigit\u0027,\n",
              " \u0027isidentifier\u0027,\n",
              " \u0027islower\u0027,\n",
              " \u0027isnumeric\u0027,\n",
              " \u0027isprintable\u0027,\n",
              " \u0027isspace\u0027,\n",
              " \u0027istitle\u0027,\n",
              " \u0027isupper\u0027,\n",
              " \u0027join\u0027,\n",
              " \u0027ljust\u0027,\n",
              " \u0027lower\u0027,\n",
              " \u0027lstrip\u0027,\n",
              " \u0027maketrans\u0027,\n",
              " \u0027partition\u0027,\n",
              " \u0027replace\u0027,\n",
              " \u0027rfind\u0027,\n",
              " \u0027rindex\u0027,\n",
              " \u0027rjust\u0027,\n",
              " \u0027rpartition\u0027,\n",
              " \u0027rsplit\u0027,\n",
              " \u0027rstrip\u0027,\n",
              " \u0027split\u0027,\n",
              " \u0027splitlines\u0027,\n",
              " \u0027startswith\u0027,\n",
              " \u0027strip\u0027,\n",
              " \u0027swapcase\u0027,\n",
              " \u0027title\u0027,\n",
              " \u0027translate\u0027,\n",
              " \u0027upper\u0027,\n",
              " \u0027zfill\u0027]"
            ]
          },
          "execution_count": 9,
          "metadata": {},
          "output_type": "execute_result"
        }
      ],
      "source": [
        "dir(str)"
      ]
    },
    {
      "cell_type": "code",
      "execution_count": 10,
      "metadata": {
        "pycharm": {}
      },
      "outputs": [
        {
          "data": {
            "text/plain": [
              "type"
            ]
          },
          "execution_count": 10,
          "metadata": {},
          "output_type": "execute_result"
        }
      ],
      "source": [
        "type(str)"
      ]
    },
    {
      "cell_type": "code",
      "execution_count": 11,
      "metadata": {
        "pycharm": {}
      },
      "outputs": [
        {
          "data": {
            "text/plain": [
              "str"
            ]
          },
          "execution_count": 11,
          "metadata": {},
          "output_type": "execute_result"
        }
      ],
      "source": [
        "a \u003d \u0027string_text\u0027\n",
        "type(a)"
      ]
    },
    {
      "cell_type": "code",
      "execution_count": 12,
      "metadata": {
        "pycharm": {}
      },
      "outputs": [
        {
          "name": "stdout",
          "output_type": "stream",
          "text": [
            "[\u0027hi\u0027]\n"
          ]
        }
      ],
      "source": [
        "foo \u003d [\u0027hi\u0027]\n",
        "print(foo)"
      ]
    },
    {
      "cell_type": "code",
      "execution_count": 15,
      "metadata": {
        "pycharm": {}
      },
      "outputs": [
        {
          "name": "stdout",
          "output_type": "stream",
          "text": [
            "[\u0027hi\u0027, \u0027bye\u0027]\n"
          ]
        }
      ],
      "source": [
        "bar \u003d foo\n",
        "bar +\u003d [\u0027bye\u0027]\n",
        "print(foo)"
      ]
    },
    {
      "cell_type": "code",
      "execution_count": 16,
      "metadata": {
        "pycharm": {}
      },
      "outputs": [],
      "source": [
        "###"
      ]
    },
    {
      "cell_type": "code",
      "execution_count": 17,
      "metadata": {
        "pycharm": {}
      },
      "outputs": [],
      "source": [
        "def add_to(num, target\u003d[]):\n",
        "    target.append(num)\n",
        "    return target"
      ]
    },
    {
      "cell_type": "code",
      "execution_count": 18,
      "metadata": {
        "pycharm": {}
      },
      "outputs": [
        {
          "data": {
            "text/plain": [
              "[1]"
            ]
          },
          "execution_count": 18,
          "metadata": {},
          "output_type": "execute_result"
        }
      ],
      "source": [
        "add_to(1)"
      ]
    },
    {
      "cell_type": "code",
      "execution_count": 19,
      "metadata": {
        "pycharm": {}
      },
      "outputs": [
        {
          "data": {
            "text/plain": [
              "[1, 2]"
            ]
          },
          "execution_count": 19,
          "metadata": {},
          "output_type": "execute_result"
        }
      ],
      "source": [
        "add_to(2)"
      ]
    },
    {
      "cell_type": "code",
      "execution_count": 20,
      "metadata": {
        "pycharm": {}
      },
      "outputs": [
        {
          "data": {
            "text/plain": [
              "[1, 2, 99]"
            ]
          },
          "execution_count": 20,
          "metadata": {},
          "output_type": "execute_result"
        }
      ],
      "source": [
        "add_to(99)"
      ]
    },
    {
      "cell_type": "markdown",
      "metadata": {
        "pycharm": {}
      },
      "source": [
        "In Python the default\n",
        "arguments are evaluated once when the function is defined, not each time\n",
        "the function is called. You should never define default arguments of mutable\n",
        "type unless you know what you are doing. You should do something like this:"
      ]
    },
    {
      "cell_type": "code",
      "execution_count": 21,
      "metadata": {
        "pycharm": {}
      },
      "outputs": [],
      "source": [
        "def add_to(element, target\u003dNone):\n",
        "    if target is None:\n",
        "        target \u003d []\n",
        "    target.append(element)\n",
        "    return target"
      ]
    },
    {
      "cell_type": "code",
      "execution_count": 22,
      "metadata": {
        "pycharm": {}
      },
      "outputs": [
        {
          "data": {
            "text/plain": [
              "[42]"
            ]
          },
          "execution_count": 22,
          "metadata": {},
          "output_type": "execute_result"
        }
      ],
      "source": [
        "add_to(42)"
      ]
    },
    {
      "cell_type": "code",
      "execution_count": 23,
      "metadata": {
        "pycharm": {}
      },
      "outputs": [
        {
          "data": {
            "text/plain": [
              "[42]"
            ]
          },
          "execution_count": 23,
          "metadata": {},
          "output_type": "execute_result"
        }
      ],
      "source": [
        "add_to(42)"
      ]
    },
    {
      "cell_type": "code",
      "execution_count": 24,
      "metadata": {
        "pycharm": {}
      },
      "outputs": [
        {
          "data": {
            "text/plain": [
              "[43]"
            ]
          },
          "execution_count": 24,
          "metadata": {},
          "output_type": "execute_result"
        }
      ],
      "source": [
        "add_to(43)"
      ]
    },
    {
      "cell_type": "code",
      "execution_count": 25,
      "metadata": {
        "pycharm": {}
      },
      "outputs": [
        {
          "data": {
            "text/plain": [
              "\u003cfunction __main__.add_to(element, target\u003dNone)\u003e"
            ]
          },
          "execution_count": 25,
          "metadata": {},
          "output_type": "execute_result"
        }
      ],
      "source": [
        "add_to"
      ]
    },
    {
      "cell_type": "code",
      "execution_count": 28,
      "metadata": {
        "pycharm": {}
      },
      "outputs": [
        {
          "data": {
            "text/plain": [
              "function"
            ]
          },
          "execution_count": 28,
          "metadata": {},
          "output_type": "execute_result"
        }
      ],
      "source": [
        "type(add_to)"
      ]
    },
    {
      "cell_type": "code",
      "execution_count": 29,
      "metadata": {
        "pycharm": {}
      },
      "outputs": [
        {
          "data": {
            "text/plain": [
              "[\u0027__annotations__\u0027,\n",
              " \u0027__call__\u0027,\n",
              " \u0027__class__\u0027,\n",
              " \u0027__closure__\u0027,\n",
              " \u0027__code__\u0027,\n",
              " \u0027__defaults__\u0027,\n",
              " \u0027__delattr__\u0027,\n",
              " \u0027__dict__\u0027,\n",
              " \u0027__dir__\u0027,\n",
              " \u0027__doc__\u0027,\n",
              " \u0027__eq__\u0027,\n",
              " \u0027__format__\u0027,\n",
              " \u0027__ge__\u0027,\n",
              " \u0027__get__\u0027,\n",
              " \u0027__getattribute__\u0027,\n",
              " \u0027__globals__\u0027,\n",
              " \u0027__gt__\u0027,\n",
              " \u0027__hash__\u0027,\n",
              " \u0027__init__\u0027,\n",
              " \u0027__init_subclass__\u0027,\n",
              " \u0027__kwdefaults__\u0027,\n",
              " \u0027__le__\u0027,\n",
              " \u0027__lt__\u0027,\n",
              " \u0027__module__\u0027,\n",
              " \u0027__name__\u0027,\n",
              " \u0027__ne__\u0027,\n",
              " \u0027__new__\u0027,\n",
              " \u0027__qualname__\u0027,\n",
              " \u0027__reduce__\u0027,\n",
              " \u0027__reduce_ex__\u0027,\n",
              " \u0027__repr__\u0027,\n",
              " \u0027__setattr__\u0027,\n",
              " \u0027__sizeof__\u0027,\n",
              " \u0027__str__\u0027,\n",
              " \u0027__subclasshook__\u0027]"
            ]
          },
          "execution_count": 29,
          "metadata": {},
          "output_type": "execute_result"
        }
      ],
      "source": [
        "dir(add_to)"
      ]
    },
    {
      "cell_type": "markdown",
      "metadata": {
        "pycharm": {}
      },
      "source": [
        "# Exceptions\n"
      ]
    },
    {
      "cell_type": "code",
      "execution_count": 11,
      "metadata": {
        "pycharm": {}
      },
      "outputs": [],
      "source": [
        "# Python\u0027s `for` and `while` loops\n",
        "# support an `else` clause that executes\n",
        "# only if the loops terminates without\n",
        "# hitting a `break` statement.\n",
        "\n",
        "def contains(haystack, needle):\n",
        "    \"\"\"\n",
        "    Throw a ValueError if `needle` not\n",
        "    in `haystack`.\n",
        "    \"\"\"\n",
        "    for item in haystack:\n",
        "        if item \u003d\u003d needle:\n",
        "            break\n",
        "    else:\n",
        "        # The `else` here is a\n",
        "        # \"completion clause\" that runs\n",
        "        # only if the loop ran to completion\n",
        "        # without hitting a `break` statement.\n",
        "        raise ValueError(\u0027Needle not found\u0027)"
      ]
    },
    {
      "cell_type": "code",
      "execution_count": 12,
      "metadata": {
        "pycharm": {}
      },
      "outputs": [],
      "source": [
        "contains([23, \u0027needle\u0027, 0xbadc0ffee], \u0027needle\u0027)"
      ]
    },
    {
      "cell_type": "code",
      "execution_count": 13,
      "metadata": {
        "pycharm": {}
      },
      "outputs": [
        {
          "ename": "ValueError",
          "evalue": "Needle not found",
          "traceback": [
            "\u001b[1;31m---------------------------------------------------------------------------\u001b[0m",
            "\u001b[1;31mValueError\u001b[0m                                Traceback (most recent call last)",
            "\u001b[1;32m\u003cipython-input-13-3e4f2ee1024e\u003e\u001b[0m in \u001b[0;36m\u003cmodule\u003e\u001b[1;34m\u001b[0m\n\u001b[1;32m----\u003e 1\u001b[1;33m \u001b[0mcontains\u001b[0m\u001b[1;33m(\u001b[0m\u001b[1;33m[\u001b[0m\u001b[1;36m23\u001b[0m\u001b[1;33m,\u001b[0m \u001b[1;36m42\u001b[0m\u001b[1;33m,\u001b[0m \u001b[1;36m0xbadc0ffee\u001b[0m\u001b[1;33m]\u001b[0m\u001b[1;33m,\u001b[0m \u001b[1;34m\u0027needle\u0027\u001b[0m\u001b[1;33m)\u001b[0m\u001b[1;33m\u001b[0m\u001b[0m\n\u001b[0m",
            "\u001b[1;32m\u003cipython-input-11-f65d6f354c54\u003e\u001b[0m in \u001b[0;36mcontains\u001b[1;34m(haystack, needle)\u001b[0m\n\u001b[0;32m     17\u001b[0m         \u001b[1;31m# only if the loop ran to completion\u001b[0m\u001b[1;33m\u001b[0m\u001b[1;33m\u001b[0m\u001b[0m\n\u001b[0;32m     18\u001b[0m         \u001b[1;31m# without hitting a `break` statement.\u001b[0m\u001b[1;33m\u001b[0m\u001b[1;33m\u001b[0m\u001b[0m\n\u001b[1;32m---\u003e 19\u001b[1;33m         \u001b[1;32mraise\u001b[0m \u001b[0mValueError\u001b[0m\u001b[1;33m(\u001b[0m\u001b[1;34m\u0027Needle not found\u0027\u001b[0m\u001b[1;33m)\u001b[0m\u001b[1;33m\u001b[0m\u001b[0m\n\u001b[0m",
            "\u001b[1;31mValueError\u001b[0m: Needle not found"
          ],
          "output_type": "error"
        }
      ],
      "source": [
        "contains([23, 42, 0xbadc0ffee], \u0027needle\u0027)"
      ]
    },
    {
      "cell_type": "code",
      "execution_count": 14,
      "metadata": {
        "pycharm": {}
      },
      "outputs": [],
      "source": [
        "# Personally, I\u0027m not a fan of the `else`\n",
        "# \"completion clause\" in loops because\n",
        "# I find it confusing. I\u0027d rather do\n",
        "# something like this:\n",
        "\n",
        "def better_contains(haystack, needle):\n",
        "    for item in haystack:\n",
        "        if item \u003d\u003d needle:\n",
        "            break\n",
        "    raise ValueError(\u0027Needle not found\u0027)"
      ]
    },
    {
      "cell_type": "code",
      "execution_count": 15,
      "metadata": {
        "pycharm": {}
      },
      "outputs": [
        {
          "ename": "ValueError",
          "evalue": "Needle not found",
          "traceback": [
            "\u001b[1;31m---------------------------------------------------------------------------\u001b[0m",
            "\u001b[1;31mValueError\u001b[0m                                Traceback (most recent call last)",
            "\u001b[1;32m\u003cipython-input-15-c4f2d056a1bd\u003e\u001b[0m in \u001b[0;36m\u003cmodule\u003e\u001b[1;34m\u001b[0m\n\u001b[1;32m----\u003e 1\u001b[1;33m \u001b[0mbetter_contains\u001b[0m\u001b[1;33m(\u001b[0m\u001b[1;33m[\u001b[0m\u001b[1;36m23\u001b[0m\u001b[1;33m,\u001b[0m \u001b[1;36m42\u001b[0m\u001b[1;33m,\u001b[0m \u001b[1;36m0xbadc0ffee\u001b[0m\u001b[1;33m]\u001b[0m\u001b[1;33m,\u001b[0m \u001b[1;34m\u0027needle\u0027\u001b[0m\u001b[1;33m)\u001b[0m\u001b[1;33m\u001b[0m\u001b[0m\n\u001b[0m",
            "\u001b[1;32m\u003cipython-input-14-8c3549f25349\u003e\u001b[0m in \u001b[0;36mbetter_contains\u001b[1;34m(haystack, needle)\u001b[0m\n\u001b[0;32m      8\u001b[0m         \u001b[1;32mif\u001b[0m \u001b[0mitem\u001b[0m \u001b[1;33m\u003d\u003d\u001b[0m \u001b[0mneedle\u001b[0m\u001b[1;33m:\u001b[0m\u001b[1;33m\u001b[0m\u001b[0m\n\u001b[0;32m      9\u001b[0m             \u001b[1;32mbreak\u001b[0m\u001b[1;33m\u001b[0m\u001b[0m\n\u001b[1;32m---\u003e 10\u001b[1;33m     \u001b[1;32mraise\u001b[0m \u001b[0mValueError\u001b[0m\u001b[1;33m(\u001b[0m\u001b[1;34m\u0027Needle not found\u0027\u001b[0m\u001b[1;33m)\u001b[0m\u001b[1;33m\u001b[0m\u001b[0m\n\u001b[0m",
            "\u001b[1;31mValueError\u001b[0m: Needle not found"
          ],
          "output_type": "error"
        }
      ],
      "source": [
        "better_contains([23, 42, 0xbadc0ffee], \u0027needle\u0027)"
      ]
    },
    {
      "cell_type": "code",
      "execution_count": 16,
      "metadata": {
        "pycharm": {}
      },
      "outputs": [],
      "source": [
        "def even_better_contains(haystack, needle):\n",
        "    for item in haystack:\n",
        "        if item \u003d\u003d needle:\n",
        "            break\n",
        "    # Note: Typically you\u0027d write something\n",
        "    # like this to do a membership test,\n",
        "    # which is much more Pythonic:\n",
        "    if needle not in haystack:\n",
        "        raise ValueError(\u0027Needle not found\u0027)"
      ]
    },
    {
      "cell_type": "code",
      "execution_count": 17,
      "metadata": {
        "pycharm": {}
      },
      "outputs": [
        {
          "ename": "ValueError",
          "evalue": "Needle not found",
          "traceback": [
            "\u001b[1;31m---------------------------------------------------------------------------\u001b[0m",
            "\u001b[1;31mValueError\u001b[0m                                Traceback (most recent call last)",
            "\u001b[1;32m\u003cipython-input-17-ad01c0b1503f\u003e\u001b[0m in \u001b[0;36m\u003cmodule\u003e\u001b[1;34m\u001b[0m\n\u001b[1;32m----\u003e 1\u001b[1;33m \u001b[0meven_better_contains\u001b[0m\u001b[1;33m(\u001b[0m\u001b[1;33m[\u001b[0m\u001b[1;36m23\u001b[0m\u001b[1;33m,\u001b[0m \u001b[1;36m42\u001b[0m\u001b[1;33m,\u001b[0m \u001b[1;36m0xbadc0ffee\u001b[0m\u001b[1;33m]\u001b[0m\u001b[1;33m,\u001b[0m \u001b[1;34m\u0027needle\u0027\u001b[0m\u001b[1;33m)\u001b[0m\u001b[1;33m\u001b[0m\u001b[0m\n\u001b[0m",
            "\u001b[1;32m\u003cipython-input-16-bdaf1736d7d8\u003e\u001b[0m in \u001b[0;36meven_better_contains\u001b[1;34m(haystack, needle)\u001b[0m\n\u001b[0;32m      7\u001b[0m     \u001b[1;31m# which is much more Pythonic:\u001b[0m\u001b[1;33m\u001b[0m\u001b[1;33m\u001b[0m\u001b[0m\n\u001b[0;32m      8\u001b[0m     \u001b[1;32mif\u001b[0m \u001b[0mneedle\u001b[0m \u001b[1;32mnot\u001b[0m \u001b[1;32min\u001b[0m \u001b[0mhaystack\u001b[0m\u001b[1;33m:\u001b[0m\u001b[1;33m\u001b[0m\u001b[0m\n\u001b[1;32m----\u003e 9\u001b[1;33m         \u001b[1;32mraise\u001b[0m \u001b[0mValueError\u001b[0m\u001b[1;33m(\u001b[0m\u001b[1;34m\u0027Needle not found\u0027\u001b[0m\u001b[1;33m)\u001b[0m\u001b[1;33m\u001b[0m\u001b[0m\n\u001b[0m",
            "\u001b[1;31mValueError\u001b[0m: Needle not found"
          ],
          "output_type": "error"
        }
      ],
      "source": [
        "even_better_contains([23, 42, 0xbadc0ffee], \u0027needle\u0027)"
      ]
    },
    {
      "cell_type": "code",
      "execution_count": 18,
      "metadata": {
        "pycharm": {}
      },
      "outputs": [],
      "source": [
        "even_better_contains([23, \u0027needle\u0027, 0xbadc0ffee], \u0027needle\u0027)"
      ]
    },
    {
      "cell_type": "code",
      "execution_count": 1,
      "metadata": {
        "pycharm": {}
      },
      "outputs": [
        {
          "data": {
            "text/plain": [
              "\u0027c:\\\\users\\\\listera\\\\pyprojects\\\\.env\u0027"
            ]
          },
          "execution_count": 1,
          "metadata": {},
          "output_type": "execute_result"
        }
      ],
      "source": [
        "import sys\n",
        "sys.prefix"
      ]
    },
    {
      "cell_type": "code",
      "execution_count": 2,
      "metadata": {
        "pycharm": {}
      },
      "outputs": [
        {
          "data": {
            "text/plain": [
              "[\u0027c:\\\\users\\\\listera\\\\pyprojects\\\\.env\u0027,\n",
              " \u0027c:\\\\users\\\\listera\\\\pyprojects\\\\.env\\\\lib\\\\site-packages\u0027]"
            ]
          },
          "execution_count": 2,
          "metadata": {},
          "output_type": "execute_result"
        }
      ],
      "source": [
        "import site\n",
        "site.getsitepackages()"
      ]
    },
    {
      "cell_type": "code",
      "execution_count": null,
      "metadata": {
        "pycharm": {}
      },
      "outputs": [],
      "source": []
    }
  ],
  "metadata": {
    "kernelspec": {
      "name": "pycharm-2414569",
      "language": "python",
      "display_name": "PyCharm (pythonic)"
    },
    "language_info": {
      "codemirror_mode": {
        "name": "ipython",
        "version": 3
      },
      "file_extension": ".py",
      "mimetype": "text/x-python",
      "name": "python",
      "nbconvert_exporter": "python",
      "pygments_lexer": "ipython3",
      "version": "3.6.2"
    }
  },
  "nbformat": 4,
  "nbformat_minor": 2
}